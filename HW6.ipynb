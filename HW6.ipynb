{
 "cells": [
  {
   "cell_type": "code",
   "execution_count": 1,
   "metadata": {
    "collapsed": true
   },
   "outputs": [],
   "source": [
    "import warnings\n",
    "import numpy as np\n",
    "import pandas as pd\n",
    "from sklearn.model_selection import train_test_split\n",
    "from sklearn.ensemble import RandomForestClassifier\n",
    "from sklearn.metrics import precision_recall_curve, f1_score, roc_auc_score, precision_score, recall_score\n",
    "warnings.filterwarnings('ignore')"
   ]
  },
  {
   "cell_type": "markdown",
   "source": [
    "Датасет использовал раньше в курсовых, решил взять его. Т.к уже знаю данные таргет и зависимости"
   ],
   "metadata": {
    "collapsed": false,
    "pycharm": {
     "name": "#%% md\n"
    }
   }
  },
  {
   "cell_type": "code",
   "execution_count": 2,
   "outputs": [],
   "source": [
    "\n",
    "df_train = pd.read_csv('data/Credit_default.csv')"
   ],
   "metadata": {
    "collapsed": false,
    "pycharm": {
     "name": "#%%\n"
    }
   }
  },
  {
   "cell_type": "code",
   "execution_count": 3,
   "outputs": [
    {
     "data": {
      "text/plain": "Home Ownership                     0\nAnnual Income                   1557\nYears in current job             371\nTax Liens                          0\nNumber of Open Accounts            0\nYears of Credit History            0\nMaximum Open Credit                0\nNumber of Credit Problems          0\nMonths since last delinquent    4081\nBankruptcies                      14\nPurpose                            0\nTerm                               0\nCurrent Loan Amount                0\nCurrent Credit Balance             0\nMonthly Debt                       0\nCredit Score                    1557\nCredit Default                     0\ndtype: int64"
     },
     "execution_count": 3,
     "metadata": {},
     "output_type": "execute_result"
    }
   ],
   "source": [
    "df_train.isna().sum()"
   ],
   "metadata": {
    "collapsed": false,
    "pycharm": {
     "name": "#%%\n"
    }
   }
  },
  {
   "cell_type": "code",
   "execution_count": 4,
   "outputs": [
    {
     "name": "stdout",
     "output_type": "stream",
     "text": [
      "<class 'pandas.core.frame.DataFrame'>\n",
      "RangeIndex: 7500 entries, 0 to 7499\n",
      "Data columns (total 17 columns):\n",
      " #   Column                        Non-Null Count  Dtype  \n",
      "---  ------                        --------------  -----  \n",
      " 0   Home Ownership                7500 non-null   object \n",
      " 1   Annual Income                 5943 non-null   float64\n",
      " 2   Years in current job          7129 non-null   object \n",
      " 3   Tax Liens                     7500 non-null   float64\n",
      " 4   Number of Open Accounts       7500 non-null   float64\n",
      " 5   Years of Credit History       7500 non-null   float64\n",
      " 6   Maximum Open Credit           7500 non-null   float64\n",
      " 7   Number of Credit Problems     7500 non-null   float64\n",
      " 8   Months since last delinquent  3419 non-null   float64\n",
      " 9   Bankruptcies                  7486 non-null   float64\n",
      " 10  Purpose                       7500 non-null   object \n",
      " 11  Term                          7500 non-null   object \n",
      " 12  Current Loan Amount           7500 non-null   float64\n",
      " 13  Current Credit Balance        7500 non-null   float64\n",
      " 14  Monthly Debt                  7500 non-null   float64\n",
      " 15  Credit Score                  5943 non-null   float64\n",
      " 16  Credit Default                7500 non-null   int64  \n",
      "dtypes: float64(12), int64(1), object(4)\n",
      "memory usage: 996.2+ KB\n"
     ]
    }
   ],
   "source": [
    "df_train.info()"
   ],
   "metadata": {
    "collapsed": false,
    "pycharm": {
     "name": "#%%\n"
    }
   }
  },
  {
   "cell_type": "code",
   "execution_count": 5,
   "outputs": [],
   "source": [
    "#Обработка пропусков\n",
    "def fill_na(df):\n",
    "    #Делаем новые признаки метки для пропусков\n",
    "    df[['Annual Income_nan', 'Years in current job_nan', 'Months since last delinquent_nan', 'Credit Score_nan']] = 0\n",
    "    #Делаем переменную коэффициент для умножения признака и заполнения пропуска\n",
    "    corr_coef_mean = df_train['Annual Income'].mean()/df_train['Monthly Debt'].mean()\n",
    "    #Заполняем Annual Income и делаем признак метку = 1\n",
    "    df['Annual Income_nan'][df['Annual Income'].isna()] = 1\n",
    "    df['Annual Income'][df['Annual Income'].isna()] = df['Monthly Debt'][df['Annual Income'].isna()] * corr_coef_mean\n",
    "    #Заполняем Years in current job как не работающий и делаем признак метку = 1\n",
    "    df['Years in current job_nan'][df['Years in current job'].isna()] = 1\n",
    "    df['Years in current job'][df['Years in current job'].isna()] = \"don't work\"\n",
    "    #Заполняем Months since last delinquent нулями и признак метку единицами\n",
    "    df['Months since last delinquent_nan'][df['Months since last delinquent'].isna()] = 1\n",
    "    df['Months since last delinquent'][df['Months since last delinquent'].isna()] = 0\n",
    "    #Заполняем пропуски Bankruptcies delinquent\n",
    "    df['Bankruptcies'][df['Bankruptcies'].isna()] = df['Number of Credit Problems'][df['Bankruptcies'].isna()]\n",
    "    #Заполняем пропуски Credit Score медианой (пока) и признак метку = 1\n",
    "    df['Credit Score_nan'][df['Credit Score'].isna()] = 1\n",
    "    df['Credit Score'][df['Credit Score'].isna()] = df['Credit Score'].median()\n",
    "    return df\n",
    "\n",
    "df_train = fill_na(df_train)\n",
    "\n"
   ],
   "metadata": {
    "collapsed": false,
    "pycharm": {
     "name": "#%%\n"
    }
   }
  },
  {
   "cell_type": "code",
   "execution_count": 6,
   "outputs": [],
   "source": [
    "def fix_outliers(df):\n",
    "    df[['Maximum Open Credit_outlier']] = 0\n",
    "    df['Maximum Open Credit_outlier'][df['Maximum Open Credit'] > 30000000] = 1\n",
    "    df['Maximum Open Credit'][df['Maximum Open Credit'] > 30000000] = 30000000\n",
    "    return df\n",
    "df_train = fix_outliers(df_train)\n"
   ],
   "metadata": {
    "collapsed": false,
    "pycharm": {
     "name": "#%%\n"
    }
   }
  },
  {
   "cell_type": "code",
   "execution_count": 7,
   "outputs": [],
   "source": [
    "#Делаем feature encoding а именно ранги категориальных признаков\n",
    "#При необходимости базовые признаки от них можно потом удалить\n",
    "\n",
    "def create_rank_cat(df):\n",
    "    #Создаем и инциализируем новые признаки\n",
    "    df[['Home Ownership_rank', 'Years in current job_rank', 'Tax Liens_rank', 'Number of Credit Problems_rank', 'Bankruptcies_rank', 'Term_rank', 'Purpose_rank', 'No problems']] = 0\n",
    "    #Заполняем признак No problems\n",
    "    df['No problems'][(df['Tax Liens'] == 0) & (df['Bankruptcies'] == 0) & (df['Number of Credit Problems'] == 0)] = 1\n",
    "    #Исправляем ошибочное значение признака или однозначное в одно значение\n",
    "    df['Home Ownership'][df['Home Ownership'] == 'Have Mortgage'] = 'Home Mortgage'\n",
    "    #Делаем ранги для домовладений\n",
    "    df['Home Ownership_rank'][df['Home Ownership'] == 'Home Mortgage'] = 1\n",
    "    df['Home Ownership_rank'][df['Home Ownership'] == 'Own Home'] = 2\n",
    "    #Делаем ранги для времени работы\n",
    "    df['Years in current job_rank'][df['Years in current job'].isin(['< 1 year'])] = 1\n",
    "    df['Years in current job_rank'][df['Years in current job'].isin(['1 year', '2 years', '3 years'])] = 2\n",
    "    df['Years in current job_rank'][df['Years in current job'].isin(['4 years', '5 years'])] = 3\n",
    "    df['Years in current job_rank'][df['Years in current job'].isin(['6 years', '7 years', '8 years', '9 years', '10+ years'])] = 4\n",
    "    #Делаем ранги для Tax Liens\n",
    "    df['Tax Liens_rank'][df['Tax Liens'].isin([i for i in range(1, 4)])] = 1\n",
    "    df['Tax Liens_rank'][df['Tax Liens'] == 0] = 2\n",
    "    #Делаем ранги для Number of Credit Problems\n",
    "    df['Number of Credit Problems_rank'][df['Number of Credit Problems'].isin([2, 3])] = 1\n",
    "    df['Number of Credit Problems_rank'][df['Number of Credit Problems'] == 1] = 2\n",
    "    df['Number of Credit Problems_rank'][df['Number of Credit Problems'] == 0] = 3\n",
    "    #Заполняем ранг для банкротства\n",
    "    df['Bankruptcies_rank'][df['Bankruptcies'] > 0] = 1\n",
    "    #Заполняем ранг Term\n",
    "    df['Term_rank'][df['Term'] == 'Long Term'] = 1\n",
    "    #Заполняем ранг Purpose\n",
    "    df['Purpose_rank'][df['Purpose'].isin(['buy house', 'buy a car', 'home improvements', 'medical bills'])] = 1\n",
    "    df['Purpose_rank'][df['Purpose'].isin(['business loan', 'small business'])] = 2\n",
    "    df['Purpose_rank'][df['Purpose'] == 'debt consolidation'] = 3\n",
    "    df[['Tax Liens', 'Number of Credit Problems', 'Bankruptcies']] = \\\n",
    "    df[['Tax Liens', 'Number of Credit Problems', 'Bankruptcies']].astype('int64')\n",
    "    return df\n",
    "\n",
    "df_train = create_rank_cat(df_train)\n"
   ],
   "metadata": {
    "collapsed": false,
    "pycharm": {
     "name": "#%%\n"
    }
   }
  },
  {
   "cell_type": "code",
   "execution_count": 8,
   "outputs": [],
   "source": [
    "#После обработки датасета, обозначаем таргет, и убираем категориальные переменные, т.к кодирование уже сделали\n",
    "target = pd.Series(df_train['Credit Default'])\n",
    "features = df_train.drop(['Credit Default', 'Home Ownership', 'Years in current job', 'Purpose', 'Term'], axis=1)\n",
    "#Бьем на трейн тест\n",
    "X_train, X_test, y_train, y_test = train_test_split(features, target,\n",
    "                                                    shuffle=True,\n",
    "                                                    test_size=0.30,\n",
    "                                                    random_state=42)"
   ],
   "metadata": {
    "collapsed": false,
    "pycharm": {
     "name": "#%%\n"
    }
   }
  },
  {
   "cell_type": "code",
   "execution_count": 9,
   "outputs": [
    {
     "data": {
      "text/plain": "0    5387\n1    2113\nName: Credit Default, dtype: int64"
     },
     "execution_count": 9,
     "metadata": {},
     "output_type": "execute_result"
    }
   ],
   "source": [
    "df_train['Credit Default'].value_counts()"
   ],
   "metadata": {
    "collapsed": false,
    "pycharm": {
     "name": "#%%\n"
    }
   }
  },
  {
   "cell_type": "code",
   "execution_count": 10,
   "outputs": [
    {
     "name": "stdout",
     "output_type": "stream",
     "text": [
      "Best Threshold=0.43203767430571427, F-Score=0.547, Precision=0.512, Recall=0.588\n"
     ]
    }
   ],
   "source": [
    "forest = RandomForestClassifier(max_depth=3, random_state=42, class_weight={0: 1, 1: 2})\n",
    "forest.fit(X_train, y_train)\n",
    "preds = forest.predict_proba(X_test)[:, 1]\n",
    "precision, recall, thresholds = precision_recall_curve(y_test, preds)\n",
    "fscore = (2 * precision * recall) / (precision + recall)\n",
    "# locate the index of the largest f score\n",
    "ix = np.argmax(fscore)\n",
    "print(f'Best Threshold={thresholds[ix]}, F-Score={fscore[ix]:.3f}, Precision={precision[ix]:.3f}, Recall={recall[ix]:.3f}')\n",
    "roc_forest = roc_auc_score(y_test, preds)\n"
   ],
   "metadata": {
    "collapsed": false,
    "pycharm": {
     "name": "#%%\n"
    }
   }
  },
  {
   "cell_type": "code",
   "execution_count": 11,
   "outputs": [
    {
     "name": "stdout",
     "output_type": "stream",
     "text": [
      "Using 1057/2113 as positives and unlabeling the rest\n"
     ]
    }
   ],
   "source": [
    "mod_data = df_train.copy()\n",
    "\n",
    "# get the indices of the positives samples\n",
    "pos_ind = np.where(mod_data['Credit Default'].values == 1)[0]\n",
    "\n",
    "# shuffle them\n",
    "np.random.shuffle(pos_ind)\n",
    "# leave just 50 of the positives marked\n",
    "perc = 0.50\n",
    "pos_sample_len = int(np.ceil(perc * len(pos_ind)))\n",
    "\n",
    "print(f'Using {pos_sample_len}/{len(pos_ind)} as positives and unlabeling the rest')\n",
    "pos_sample = pos_ind[:pos_sample_len]\n"
   ],
   "metadata": {
    "collapsed": false,
    "pycharm": {
     "name": "#%%\n"
    }
   }
  },
  {
   "cell_type": "code",
   "execution_count": 12,
   "outputs": [
    {
     "name": "stdout",
     "output_type": "stream",
     "text": [
      "target variable:\n",
      " -1    6443\n",
      " 1    1057\n",
      "Name: class_test, dtype: int64\n"
     ]
    }
   ],
   "source": [
    "mod_data['class_test'] = -1\n",
    "mod_data.loc[pos_sample,'class_test'] = 1\n",
    "print('target variable:\\n', mod_data.iloc[:,-1].value_counts())\n",
    "\n"
   ],
   "metadata": {
    "collapsed": false,
    "pycharm": {
     "name": "#%%\n"
    }
   }
  },
  {
   "cell_type": "code",
   "execution_count": 13,
   "outputs": [
    {
     "name": "stdout",
     "output_type": "stream",
     "text": [
      "(1057, 31) (1057, 31)\n"
     ]
    }
   ],
   "source": [
    "mod_data = mod_data.sample(frac=1)\n",
    "\n",
    "\n",
    "data_N = mod_data[mod_data['class_test'] == -1]\n",
    "data_P = mod_data[mod_data['class_test'] == 1]\n",
    "\n",
    "neg_sample = data_N[:data_P.shape[0]]\n",
    "sample_test = data_N[data_P.shape[0]:]\n",
    "pos_sample = data_P.copy()\n",
    "\n",
    "print(neg_sample.shape, pos_sample.shape)\n",
    "sample_train = pd.concat([neg_sample, pos_sample]).sample(frac=1)\n",
    "\n"
   ],
   "metadata": {
    "collapsed": false,
    "pycharm": {
     "name": "#%%\n"
    }
   }
  },
  {
   "cell_type": "code",
   "execution_count": 14,
   "outputs": [],
   "source": [
    "pu_forest = RandomForestClassifier(max_depth=3, random_state=42)\n",
    "sample_train.loc[sample_train['class_test'] == -1, 'class_test'] = 0\n",
    "\n",
    "pu_forest.fit(sample_train.drop(columns=['class_test', 'Credit Default', 'Home Ownership', 'Years in current job', 'Purpose', 'Term']),\n",
    "          sample_train['class_test'])\n",
    "\n",
    "y_predict = pu_forest.predict(sample_test.drop(columns=['class_test', 'Credit Default', 'Home Ownership', 'Years in current job', 'Purpose', 'Term']))\n",
    "f1_pu = f1_score(sample_test['Credit Default'], y_predict)\n",
    "roc_pu = roc_auc_score(sample_test['Credit Default'], y_predict)\n",
    "recall_pu = recall_score(sample_test['Credit Default'], y_predict, average='binary')\n",
    "precision_pu = precision_score(sample_test['Credit Default'], y_predict, average='binary')"
   ],
   "metadata": {
    "collapsed": false,
    "pycharm": {
     "name": "#%%\n"
    }
   }
  },
  {
   "cell_type": "code",
   "execution_count": 15,
   "outputs": [
    {
     "data": {
      "text/plain": "           classic_forest  PU_forest\nprecision        0.511905   0.345291\nrecall           0.588146   0.514477\nf1               0.547383   0.413238\nroc_auc          0.759397   0.659645",
      "text/html": "<div>\n<style scoped>\n    .dataframe tbody tr th:only-of-type {\n        vertical-align: middle;\n    }\n\n    .dataframe tbody tr th {\n        vertical-align: top;\n    }\n\n    .dataframe thead th {\n        text-align: right;\n    }\n</style>\n<table border=\"1\" class=\"dataframe\">\n  <thead>\n    <tr style=\"text-align: right;\">\n      <th></th>\n      <th>classic_forest</th>\n      <th>PU_forest</th>\n    </tr>\n  </thead>\n  <tbody>\n    <tr>\n      <th>precision</th>\n      <td>0.511905</td>\n      <td>0.345291</td>\n    </tr>\n    <tr>\n      <th>recall</th>\n      <td>0.588146</td>\n      <td>0.514477</td>\n    </tr>\n    <tr>\n      <th>f1</th>\n      <td>0.547383</td>\n      <td>0.413238</td>\n    </tr>\n    <tr>\n      <th>roc_auc</th>\n      <td>0.759397</td>\n      <td>0.659645</td>\n    </tr>\n  </tbody>\n</table>\n</div>"
     },
     "execution_count": 15,
     "metadata": {},
     "output_type": "execute_result"
    }
   ],
   "source": [
    "metrics = pd.DataFrame({'classic_forest': [precision[ix], recall[ix], fscore[ix], roc_forest], 'PU_forest': [precision_pu, recall_pu, f1_pu, roc_pu]}, index=['precision', 'recall', 'f1', 'roc_auc'])\n",
    "metrics\n"
   ],
   "metadata": {
    "collapsed": false,
    "pycharm": {
     "name": "#%%\n"
    }
   }
  }
 ],
 "metadata": {
  "kernelspec": {
   "display_name": "Python 3",
   "language": "python",
   "name": "python3"
  },
  "language_info": {
   "codemirror_mode": {
    "name": "ipython",
    "version": 2
   },
   "file_extension": ".py",
   "mimetype": "text/x-python",
   "name": "python",
   "nbconvert_exporter": "python",
   "pygments_lexer": "ipython2",
   "version": "2.7.6"
  }
 },
 "nbformat": 4,
 "nbformat_minor": 0
}