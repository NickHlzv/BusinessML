{
 "cells": [
  {
   "cell_type": "markdown",
   "source": [
    "# Урок 5. Задача оттока: варианты постановки, возможные способы решения##"
   ],
   "metadata": {
    "collapsed": false
   }
  },
  {
   "cell_type": "markdown",
   "source": [
    "План занятия:\n",
    "\n",
    "1. что такое \"отток\"?\n",
    "2. задача оттока как часть процесса под названием customer relationship management\n",
    "3. для чего его (отток) прогнозировать?\n",
    "4. удержание пользователей\n",
    "5. анализ аудитории\n",
    "6. метрики удержания\n",
    "7. области применения\n",
    "8. Как оценить эффективность удержания аудитории"
   ],
   "metadata": {
    "collapsed": false
   }
  },
  {
   "cell_type": "markdown",
   "source": [
    "### Что такое \"отток\"?"
   ],
   "metadata": {
    "collapsed": false
   }
  },
  {
   "cell_type": "markdown",
   "source": [
    "Одно из определений:\n",
    "\n",
    "- отказ пользователя от некоторого продукта или услуги (сервиса)"
   ],
   "metadata": {
    "collapsed": false
   }
  },
  {
   "cell_type": "markdown",
   "source": [
    "<img src='https://drive.google.com/uc?export=view&id=1YakQRMiP5AK2SC3s_6k1QeDXRu9Axgg8' width=500>"
   ],
   "metadata": {
    "collapsed": false
   }
  },
  {
   "cell_type": "markdown",
   "source": [
    "\"Интуитивно\" понятие оттока понятно - был пользователь, который пользовался нашим сервисом, а потом вдруг перестал это делать. *Примеры: перешел в другой банк, в другую телекоммуникационную компанию, стал пользоваться другим сервисом и т.д (в зависимости от того, какая у нас сфера)*"
   ],
   "metadata": {
    "collapsed": false
   }
  },
  {
   "cell_type": "markdown",
   "source": [
    "### Для чего прогнозировать отток?"
   ],
   "metadata": {
    "collapsed": false
   }
  },
  {
   "cell_type": "markdown",
   "source": [
    "- Чем больше у нас пользователей, тем выше прибыль (особенно, если большая доля выручки - это рекламная монетизация)\n",
    "- Больше пользователей = привлечение новых + удержание существующих (уменьшение оттока уже существующих)\n",
    "- У привлечения новых и удержания \"старых\" разная экономическая эффективность"
   ],
   "metadata": {
    "collapsed": false
   }
  },
  {
   "cell_type": "markdown",
   "source": [
    "## Области применения\n",
    "\n",
    "\n",
    "- банки\n",
    "- телеком\n",
    "- страховые компании\n",
    "- e-commerce, ритейл\n",
    "- мобильные сервисы\n",
    "- прочее"
   ],
   "metadata": {
    "collapsed": false
   }
  },
  {
   "cell_type": "markdown",
   "source": [
    "**Удержание стоит денег!**"
   ],
   "metadata": {
    "collapsed": false
   }
  },
  {
   "cell_type": "markdown",
   "source": [
    "Здесь вопрос уже в том, насколько \"дешево\" привлекать новых и \"дорого\" - удерживать старых\n",
    "\n",
    "Еще один момент - разные пользователи приносят нам разную прибыль.\n",
    "\n",
    "Очень может быть, что попробовать удержать \"китов\" будет гораздо выгоднее привлечения новых пользователей"
   ],
   "metadata": {
    "collapsed": false
   }
  },
  {
   "cell_type": "markdown",
   "source": [
    "<img src='https://drive.google.com/uc?export=view&id=1-3abzdg7YlncIsbZiSe22JVPL3zYXg89' width=600>"
   ],
   "metadata": {
    "collapsed": false
   }
  },
  {
   "cell_type": "markdown",
   "source": [
    "### Удержание"
   ],
   "metadata": {
    "collapsed": false
   }
  },
  {
   "cell_type": "markdown",
   "source": [
    "<table>\n",
    "<tr>\n",
    "<td>\n",
    "<img src='https://drive.google.com/uc?export=view&id=1hYOkwKiHoaj9VScbqHMvfHJ0fDOHPsC1' width=200>\n",
    "</td>\n",
    "<td>\n",
    "<img src='https://drive.google.com/uc?export=view&id=1pPM0F4nCaHYe1XvWy68Hp6tTONTvSVRV'>\n",
    "</td>\n",
    "</tr>\n",
    "</table>"
   ],
   "metadata": {
    "collapsed": false
   }
  },
  {
   "cell_type": "markdown",
   "source": [
    "**А что если удерживать всех пользователей?**\n",
    "\n",
    "Это будет очень дорого и неэффективно!"
   ],
   "metadata": {
    "collapsed": false
   }
  },
  {
   "cell_type": "markdown",
   "source": [
    "Особенности процесса удержания:\n",
    "\n",
    "- удержание происходит не всегда быстро (это занимает некоторое время + нужно оценить результаты)\n",
    "\n"
   ],
   "metadata": {
    "collapsed": false
   }
  },
  {
   "cell_type": "markdown",
   "source": [
    "## Этапы удержания\n",
    "1. определить сегмент, кого удерживать (это как раз наша часть)\n",
    "2. определить, что предлагать (вебинар 2)\n",
    "3. сделать предложение\n",
    "4. дождаться реакции\n",
    "5. оценить результаты\n",
    "\n",
    "\n",
    "При этом прогноз должен быть сделан немного раньше, чем когда пользователь уже уйдет, чтобы клиентский отдел успел придумать, чего бы такого выгодного и интересного предложить пользователю.\n",
    "\n",
    "Но чем мы раньше делаем предсказание, тем чаще оно будет некачественное (можно вспомнить временные ряды и его предсказание на следующий день, либо на сотый день)."
   ],
   "metadata": {
    "collapsed": false
   }
  },
  {
   "cell_type": "markdown",
   "source": [
    "## Метрики удержания"
   ],
   "metadata": {
    "collapsed": false
   }
  },
  {
   "cell_type": "markdown",
   "source": [
    "- return rate (конверсия возврата)\n",
    "- churn rate (конверсия оттока)\n",
    "- N-day retention (удержание на день N, какая доля пользователей остается с нами на N-й день после установки (первой сессии))"
   ],
   "metadata": {
    "collapsed": false
   }
  },
  {
   "cell_type": "markdown",
   "source": [
    "$$return\\space rate = \\frac{текущее\\spaceкол-во\\space активных\\space пользователей\\space из\\spaceдатасета}{общее\\space кол-во\\space пользователей\\space из\\spaceдатасета}*100$$"
   ],
   "metadata": {
    "collapsed": false
   }
  },
  {
   "cell_type": "markdown",
   "source": [
    "$$churn \\space rate = \\frac{кол-во\\space пользователей\\space из\\space датасета, ушедших\\space в\\space отток}{общее\\space кол-во\\space пользователей\\space из\\space набора\\space данных}*100$$"
   ],
   "metadata": {
    "collapsed": false
   }
  },
  {
   "cell_type": "markdown",
   "source": [
    "<img src='https://drive.google.com/uc?export=view&id=1MmDXO34b7ICBSPN8NMH-B81BgxYS3rhh' width=400>"
   ],
   "metadata": {
    "collapsed": false
   }
  },
  {
   "cell_type": "markdown",
   "source": [
    "### Как оценить эффективность удержания аудитории"
   ],
   "metadata": {
    "collapsed": false
   }
  },
  {
   "cell_type": "markdown",
   "source": [
    "Можно выделить несколько шагов:\n",
    "\n",
    "1. провести анализ аудитории: сегментация, ключевые показатели и т.д\n",
    "2. формализовать постановку задачи и построить модель\n",
    "3. запустить компанию по удержанию (с учетом прогнозов п.2) и оценить результаты"
   ],
   "metadata": {
    "collapsed": false
   }
  },
  {
   "cell_type": "markdown",
   "source": [
    "Анализ пользователей делается с целью ответить на следующие вопросы:\n",
    "\n",
    "1. существует ли проблема оттока в принципе\n",
    "2. доля пользователей, уходящих в отток\n",
    "3. сколько мы из-за этого теряем"
   ],
   "metadata": {
    "collapsed": false
   }
  },
  {
   "cell_type": "markdown",
   "source": [
    "Неплохо еще построить экономическую модель, которая будет давать оценку в денежном выражении.\n",
    "\n",
    "Например: если у меня уходит X пользователей в сутки и я смогу удерживать Y из них, потратив N денег, то смогу ли я заработать больше N на их удержании?"
   ],
   "metadata": {
    "collapsed": false
   }
  },
  {
   "cell_type": "markdown",
   "source": [
    "### Постановка задачи"
   ],
   "metadata": {
    "collapsed": false
   }
  },
  {
   "cell_type": "markdown",
   "source": [
    "1. Анализ аудитории (описание через вектор)\n",
    "2. Определяем что мы считаем оттоком\n",
    "3. Выбираем тип задачи (бинарная/многоклассовая классификация, регрессия и т.д)\n",
    "4. Определяем горизонт прогнозирования (с учетом времени на удержание)\n",
    "5. Решаем, как именно мы будем оценивать качество нашей будущей модели (метрики)\n",
    "6. Планируем дизайн эксперимента"
   ],
   "metadata": {
    "collapsed": false
   }
  },
  {
   "cell_type": "markdown",
   "source": [
    "Необходимо спланировать, как будет выглядеть кампания по удержанию\n",
    "\n",
    "- какие у нас каналы взаимодействия с пользователем\n",
    "- какое время взаимодействия\n",
    "- что мы предлагаем"
   ],
   "metadata": {
    "collapsed": false
   }
  },
  {
   "cell_type": "markdown",
   "source": [
    "Пример формулировки продуктовой гипотезы:"
   ],
   "metadata": {
    "collapsed": false
   }
  },
  {
   "cell_type": "markdown",
   "source": [
    "\"Базируясь на предположении, что модель машинного обучения сможет сегментировать пользователей на тех, кто уходит в отток и нет, <b>не превышая ошибку в X%</b>, мы предполагаем, что реализовав такую систему прогнозирования вероятности оттока, основанную на ML, мы сможем выделить сегмент пользователей, которые собираются уйти в отток и провести кампанию по удержанию, что приведет к тому, что большинство таких пользователей останутся с нами в будущем. Мы увидим это по <b>увеличению доли пользователей, оставшихся с нами на день N</b> ,и можем измерить ее с помощью метрики <b>удержание N-го дня</b>. Мы полагаем, что изменение приведет к хорошим результатам для компании, т.к увеличит удержание пользователей и, как следствие, увеличение выручки для компании\""
   ],
   "metadata": {
    "collapsed": false
   }
  },
  {
   "cell_type": "markdown",
   "source": [
    "* ML-модель может ошибаться и в итоге в кампанию по удержанию попадут в том числе и те клиенты, которые не собирались от нас уходить. Как следствие, на их удержание будут потрачены деньги (им будет сделано более выгодное предложение, хотя этого можно было и не делать)"
   ],
   "metadata": {
    "collapsed": false
   }
  },
  {
   "cell_type": "markdown",
   "source": [
    "### Планирование эксперимента"
   ],
   "metadata": {
    "collapsed": false
   }
  },
  {
   "cell_type": "markdown",
   "source": [
    "При наличии модели с приемлемым качеством мы уже можем спланировать и провести эксперимент\n",
    "\n",
    "1. скорим всю нашу аудиторию модель прогнозирования оттока и получаем вероятности оттока для каждого пользователя\n",
    "2. сортируем пользователей по убыванию вероятности и берем топ Y%\n",
    "3. проводим кампанию по удержанию полученной выборки\n",
    "4. оцениваем результаты (превышает ли выручка от удержания расходы на это самое удержание)"
   ],
   "metadata": {
    "collapsed": false
   }
  },
  {
   "cell_type": "markdown",
   "source": [
    "## Практика\n"
   ],
   "metadata": {
    "collapsed": false
   }
  },
  {
   "cell_type": "markdown",
   "source": [
    "\n",
    "### Case 1"
   ],
   "metadata": {
    "collapsed": false
   }
  },
  {
   "cell_type": "markdown",
   "source": [
    "Давайте поработаем с набором данных с платформы kaggle https://www.kaggle.com/adammaus/predicting-churn-for-bank-customers по оттоку клиентов банка"
   ],
   "metadata": {
    "collapsed": false
   }
  },
  {
   "cell_type": "code",
   "execution_count": 1,
   "outputs": [],
   "source": [
    "import pandas as pd\n",
    "import numpy as np\n",
    "from sklearn.base import BaseEstimator, TransformerMixin\n",
    "from sklearn.linear_model import LogisticRegression\n",
    "from sklearn.model_selection import train_test_split\n",
    "from catboost import CatBoostClassifier\n",
    "import itertools\n",
    "from sklearn.metrics import f1_score, roc_auc_score, precision_score, classification_report, precision_recall_curve, confusion_matrix\n",
    "\n",
    "import matplotlib.pyplot as plt\n",
    "\n",
    "%matplotlib inline"
   ],
   "metadata": {
    "collapsed": false,
    "pycharm": {
     "name": "#%%\n"
    }
   }
  },
  {
   "cell_type": "markdown",
   "source": [
    "Ссылка на google drive: https://drive.google.com/file/d/1yIIxDfW7Wfq-wPlbsa0dFrSlD3r-Ai91"
   ],
   "metadata": {
    "collapsed": false
   }
  },
  {
   "cell_type": "code",
   "execution_count": 2,
   "outputs": [
    {
     "name": "stderr",
     "output_type": "stream",
     "text": [
      "\"wget\" ­Ґ пў«пҐвбп ў­гваҐ­­Ґ© Ё«Ё ў­Ґи­Ґ©\n",
      "Є®¬ ­¤®©, ЁбЇ®«­пҐ¬®© Їа®Ја ¬¬®© Ё«Ё Ї ЄҐв­л¬ д ©«®¬.\n",
      "\"id\" ­Ґ пў«пҐвбп ў­гваҐ­­Ґ© Ё«Ё ў­Ґи­Ґ©\n",
      "Є®¬ ­¤®©, ЁбЇ®«­пҐ¬®© Їа®Ја ¬¬®© Ё«Ё Ї ЄҐв­л¬ д ©«®¬.\n"
     ]
    }
   ],
   "source": [
    "!wget 'https://drive.google.com/uc?export=download&id=1yIIxDfW7Wfq-wPlbsa0dFrSlD3r-Ai91' -O churn_data.csv"
   ],
   "metadata": {
    "collapsed": false,
    "pycharm": {
     "name": "#%%\n"
    }
   }
  },
  {
   "cell_type": "code",
   "execution_count": 3,
   "outputs": [
    {
     "data": {
      "text/plain": "   RowNumber  CustomerId   Surname  CreditScore Geography  Gender  Age  \\\n0          1    15634602  Hargrave          619    France  Female   42   \n1          2    15647311      Hill          608     Spain  Female   41   \n2          3    15619304      Onio          502    France  Female   42   \n\n   Tenure    Balance  NumOfProducts  HasCrCard  IsActiveMember  \\\n0       2       0.00              1          1               1   \n1       1   83807.86              1          0               1   \n2       8  159660.80              3          1               0   \n\n   EstimatedSalary  Exited  \n0        101348.88       1  \n1        112542.58       0  \n2        113931.57       1  ",
      "text/html": "<div>\n<style scoped>\n    .dataframe tbody tr th:only-of-type {\n        vertical-align: middle;\n    }\n\n    .dataframe tbody tr th {\n        vertical-align: top;\n    }\n\n    .dataframe thead th {\n        text-align: right;\n    }\n</style>\n<table border=\"1\" class=\"dataframe\">\n  <thead>\n    <tr style=\"text-align: right;\">\n      <th></th>\n      <th>RowNumber</th>\n      <th>CustomerId</th>\n      <th>Surname</th>\n      <th>CreditScore</th>\n      <th>Geography</th>\n      <th>Gender</th>\n      <th>Age</th>\n      <th>Tenure</th>\n      <th>Balance</th>\n      <th>NumOfProducts</th>\n      <th>HasCrCard</th>\n      <th>IsActiveMember</th>\n      <th>EstimatedSalary</th>\n      <th>Exited</th>\n    </tr>\n  </thead>\n  <tbody>\n    <tr>\n      <th>0</th>\n      <td>1</td>\n      <td>15634602</td>\n      <td>Hargrave</td>\n      <td>619</td>\n      <td>France</td>\n      <td>Female</td>\n      <td>42</td>\n      <td>2</td>\n      <td>0.00</td>\n      <td>1</td>\n      <td>1</td>\n      <td>1</td>\n      <td>101348.88</td>\n      <td>1</td>\n    </tr>\n    <tr>\n      <th>1</th>\n      <td>2</td>\n      <td>15647311</td>\n      <td>Hill</td>\n      <td>608</td>\n      <td>Spain</td>\n      <td>Female</td>\n      <td>41</td>\n      <td>1</td>\n      <td>83807.86</td>\n      <td>1</td>\n      <td>0</td>\n      <td>1</td>\n      <td>112542.58</td>\n      <td>0</td>\n    </tr>\n    <tr>\n      <th>2</th>\n      <td>3</td>\n      <td>15619304</td>\n      <td>Onio</td>\n      <td>502</td>\n      <td>France</td>\n      <td>Female</td>\n      <td>42</td>\n      <td>8</td>\n      <td>159660.80</td>\n      <td>3</td>\n      <td>1</td>\n      <td>0</td>\n      <td>113931.57</td>\n      <td>1</td>\n    </tr>\n  </tbody>\n</table>\n</div>"
     },
     "execution_count": 3,
     "metadata": {},
     "output_type": "execute_result"
    }
   ],
   "source": [
    "df = pd.read_csv(\"data/Churn_Modelling.csv\")\n",
    "df.head(3)"
   ],
   "metadata": {
    "collapsed": false,
    "pycharm": {
     "name": "#%%\n"
    }
   }
  },
  {
   "cell_type": "markdown",
   "source": [
    "Есть как категориальные, так и вещественные признаки. Поле CustomerId нужно будет удалить. \n",
    "\n",
    "Посмотрим на распределение классов:"
   ],
   "metadata": {
    "collapsed": false
   }
  },
  {
   "cell_type": "code",
   "execution_count": 4,
   "outputs": [
    {
     "data": {
      "text/plain": "0    7963\n1    2037\nName: Exited, dtype: int64"
     },
     "execution_count": 4,
     "metadata": {},
     "output_type": "execute_result"
    }
   ],
   "source": [
    "df['Exited'].value_counts()"
   ],
   "metadata": {
    "collapsed": false,
    "pycharm": {
     "name": "#%%\n"
    }
   }
  },
  {
   "cell_type": "markdown",
   "source": [
    "Не самое плохое распределение (1 к 4)"
   ],
   "metadata": {
    "collapsed": false
   }
  },
  {
   "cell_type": "markdown",
   "source": [
    "Давайте построим модель. Сразу же будем работать с использованием sklearn pipeline"
   ],
   "metadata": {
    "collapsed": false
   }
  },
  {
   "cell_type": "code",
   "execution_count": 5,
   "outputs": [],
   "source": [
    "#разделим данные на train/test\n",
    "X_train, X_test, y_train, y_test = train_test_split(df, df['Exited'], random_state=0)"
   ],
   "metadata": {
    "collapsed": false,
    "pycharm": {
     "name": "#%%\n"
    }
   }
  },
  {
   "cell_type": "markdown",
   "source": [
    "- Категориальные признаки закодируем с помощью OneHotEncoding\n",
    "- Вещественные оставим пока как есть"
   ],
   "metadata": {
    "collapsed": false
   }
  },
  {
   "cell_type": "code",
   "execution_count": 6,
   "outputs": [],
   "source": [
    "#соберем наш простой pipeline, но нам понадобится написать класс для выбора нужного поля\n",
    "class FeatureSelector(BaseEstimator, TransformerMixin):\n",
    "    def __init__(self, column):\n",
    "        self.column = column\n",
    "\n",
    "    def fit(self, X, y=None):\n",
    "        return self\n",
    "\n",
    "    def transform(self, X, y=None):\n",
    "        return X[self.column]\n",
    "    \n",
    "\n",
    "class NumberSelector(BaseEstimator, TransformerMixin):\n",
    "    \"\"\"\n",
    "    Transformer to select a single column from the data frame to perform additional transformations on\n",
    "    Use on numeric columns in the data\n",
    "    \"\"\"\n",
    "    def __init__(self, key):\n",
    "        self.key = key\n",
    "\n",
    "    def fit(self, X, y=None):\n",
    "        return self\n",
    "\n",
    "    def transform(self, X):\n",
    "        return X[[self.key]]\n",
    "    \n",
    "    \n",
    "class OHEEncoder(BaseEstimator, TransformerMixin):\n",
    "    def __init__(self, key):\n",
    "        self.key = key\n",
    "        self.columns = []\n",
    "\n",
    "    def fit(self, X, y=None):\n",
    "        self.columns = [col for col in pd.get_dummies(X, prefix=self.key).columns]\n",
    "        return self\n",
    "\n",
    "    def transform(self, X):\n",
    "        X = pd.get_dummies(X, prefix=self.key)\n",
    "        test_columns = [col for col in X.columns]\n",
    "        for col_ in self.columns:\n",
    "            if col_ not in test_columns:\n",
    "                X[col_] = 0\n",
    "        return X[self.columns]"
   ],
   "metadata": {
    "collapsed": false,
    "pycharm": {
     "name": "#%%\n"
    }
   }
  },
  {
   "cell_type": "code",
   "execution_count": 7,
   "outputs": [
    {
     "data": {
      "text/plain": "   RowNumber  CustomerId   Surname  CreditScore Geography  Gender  Age  \\\n0          1    15634602  Hargrave          619    France  Female   42   \n1          2    15647311      Hill          608     Spain  Female   41   \n2          3    15619304      Onio          502    France  Female   42   \n\n   Tenure    Balance  NumOfProducts  HasCrCard  IsActiveMember  \\\n0       2       0.00              1          1               1   \n1       1   83807.86              1          0               1   \n2       8  159660.80              3          1               0   \n\n   EstimatedSalary  Exited  \n0        101348.88       1  \n1        112542.58       0  \n2        113931.57       1  ",
      "text/html": "<div>\n<style scoped>\n    .dataframe tbody tr th:only-of-type {\n        vertical-align: middle;\n    }\n\n    .dataframe tbody tr th {\n        vertical-align: top;\n    }\n\n    .dataframe thead th {\n        text-align: right;\n    }\n</style>\n<table border=\"1\" class=\"dataframe\">\n  <thead>\n    <tr style=\"text-align: right;\">\n      <th></th>\n      <th>RowNumber</th>\n      <th>CustomerId</th>\n      <th>Surname</th>\n      <th>CreditScore</th>\n      <th>Geography</th>\n      <th>Gender</th>\n      <th>Age</th>\n      <th>Tenure</th>\n      <th>Balance</th>\n      <th>NumOfProducts</th>\n      <th>HasCrCard</th>\n      <th>IsActiveMember</th>\n      <th>EstimatedSalary</th>\n      <th>Exited</th>\n    </tr>\n  </thead>\n  <tbody>\n    <tr>\n      <th>0</th>\n      <td>1</td>\n      <td>15634602</td>\n      <td>Hargrave</td>\n      <td>619</td>\n      <td>France</td>\n      <td>Female</td>\n      <td>42</td>\n      <td>2</td>\n      <td>0.00</td>\n      <td>1</td>\n      <td>1</td>\n      <td>1</td>\n      <td>101348.88</td>\n      <td>1</td>\n    </tr>\n    <tr>\n      <th>1</th>\n      <td>2</td>\n      <td>15647311</td>\n      <td>Hill</td>\n      <td>608</td>\n      <td>Spain</td>\n      <td>Female</td>\n      <td>41</td>\n      <td>1</td>\n      <td>83807.86</td>\n      <td>1</td>\n      <td>0</td>\n      <td>1</td>\n      <td>112542.58</td>\n      <td>0</td>\n    </tr>\n    <tr>\n      <th>2</th>\n      <td>3</td>\n      <td>15619304</td>\n      <td>Onio</td>\n      <td>502</td>\n      <td>France</td>\n      <td>Female</td>\n      <td>42</td>\n      <td>8</td>\n      <td>159660.80</td>\n      <td>3</td>\n      <td>1</td>\n      <td>0</td>\n      <td>113931.57</td>\n      <td>1</td>\n    </tr>\n  </tbody>\n</table>\n</div>"
     },
     "execution_count": 7,
     "metadata": {},
     "output_type": "execute_result"
    }
   ],
   "source": [
    "df.head(3)"
   ],
   "metadata": {
    "collapsed": false,
    "pycharm": {
     "name": "#%%\n"
    }
   }
  },
  {
   "cell_type": "markdown",
   "source": [
    "Зададим списки признаков"
   ],
   "metadata": {
    "collapsed": false
   }
  },
  {
   "cell_type": "code",
   "execution_count": 8,
   "outputs": [],
   "source": [
    "categorical_columns = ['Geography', 'Gender', 'Tenure', 'HasCrCard', 'IsActiveMember']\n",
    "continuous_columns = ['CreditScore', 'Age', 'Balance', 'NumOfProducts', 'EstimatedSalary']"
   ],
   "metadata": {
    "collapsed": false,
    "pycharm": {
     "name": "#%%\n"
    }
   }
  },
  {
   "cell_type": "markdown",
   "source": [
    "Посмотрим как это работает на примере отдельного категориального признака - Gender"
   ],
   "metadata": {
    "collapsed": false
   }
  },
  {
   "cell_type": "code",
   "execution_count": 9,
   "outputs": [
    {
     "data": {
      "text/plain": "      Gender_Female  Gender_Male\n9394              1            0\n898               1            0\n2398              1            0",
      "text/html": "<div>\n<style scoped>\n    .dataframe tbody tr th:only-of-type {\n        vertical-align: middle;\n    }\n\n    .dataframe tbody tr th {\n        vertical-align: top;\n    }\n\n    .dataframe thead th {\n        text-align: right;\n    }\n</style>\n<table border=\"1\" class=\"dataframe\">\n  <thead>\n    <tr style=\"text-align: right;\">\n      <th></th>\n      <th>Gender_Female</th>\n      <th>Gender_Male</th>\n    </tr>\n  </thead>\n  <tbody>\n    <tr>\n      <th>9394</th>\n      <td>1</td>\n      <td>0</td>\n    </tr>\n    <tr>\n      <th>898</th>\n      <td>1</td>\n      <td>0</td>\n    </tr>\n    <tr>\n      <th>2398</th>\n      <td>1</td>\n      <td>0</td>\n    </tr>\n  </tbody>\n</table>\n</div>"
     },
     "execution_count": 9,
     "metadata": {},
     "output_type": "execute_result"
    }
   ],
   "source": [
    "from sklearn.pipeline import Pipeline\n",
    "from sklearn.pipeline import FeatureUnion\n",
    "\n",
    "gender = Pipeline([\n",
    "                ('selector', FeatureSelector(column='Gender')),\n",
    "                ('ohe', OHEEncoder(key='Gender'))\n",
    "            ])\n",
    "\n",
    "gender.fit(X_train)\n",
    "gender.transform(X_test).head(3)"
   ],
   "metadata": {
    "collapsed": false,
    "pycharm": {
     "name": "#%%\n"
    }
   }
  },
  {
   "cell_type": "markdown",
   "source": [
    "Аналогичный пример для вещественного признака (здесь мы не применяем какое-либо преобразование, а просто столбец как есть)"
   ],
   "metadata": {
    "collapsed": false
   }
  },
  {
   "cell_type": "code",
   "execution_count": 10,
   "outputs": [
    {
     "data": {
      "text/plain": "      CreditScore\n9394          597\n898           523\n2398          706",
      "text/html": "<div>\n<style scoped>\n    .dataframe tbody tr th:only-of-type {\n        vertical-align: middle;\n    }\n\n    .dataframe tbody tr th {\n        vertical-align: top;\n    }\n\n    .dataframe thead th {\n        text-align: right;\n    }\n</style>\n<table border=\"1\" class=\"dataframe\">\n  <thead>\n    <tr style=\"text-align: right;\">\n      <th></th>\n      <th>CreditScore</th>\n    </tr>\n  </thead>\n  <tbody>\n    <tr>\n      <th>9394</th>\n      <td>597</td>\n    </tr>\n    <tr>\n      <th>898</th>\n      <td>523</td>\n    </tr>\n    <tr>\n      <th>2398</th>\n      <td>706</td>\n    </tr>\n  </tbody>\n</table>\n</div>"
     },
     "execution_count": 10,
     "metadata": {},
     "output_type": "execute_result"
    }
   ],
   "source": [
    "numr = Pipeline([\n",
    "                ('selector', NumberSelector(key='CreditScore')),            \n",
    "            ])\n",
    "\n",
    "numr.fit(X_train)\n",
    "numr.transform(X_test).head(3)"
   ],
   "metadata": {
    "collapsed": false,
    "pycharm": {
     "name": "#%%\n"
    }
   }
  },
  {
   "cell_type": "markdown",
   "source": [
    "Теперь нам нужно под каждый признак создать трансформер и объединить их в список."
   ],
   "metadata": {
    "collapsed": false
   }
  },
  {
   "cell_type": "code",
   "execution_count": 11,
   "outputs": [],
   "source": [
    "final_transformers = list()\n",
    "\n",
    "for cat_col in categorical_columns:\n",
    "    cat_transformer = Pipeline([\n",
    "                ('selector', FeatureSelector(column=cat_col)),\n",
    "                ('ohe', OHEEncoder(key=cat_col))\n",
    "            ])\n",
    "    \n",
    "    final_transformers.append((cat_col, cat_transformer))\n",
    "    \n",
    "for cont_col in continuous_columns:\n",
    "    cont_transformer = Pipeline([\n",
    "                ('selector', NumberSelector(key=cont_col))\n",
    "            ])\n",
    "    \n",
    "    final_transformers.append((cont_col, cont_transformer))"
   ],
   "metadata": {
    "collapsed": false,
    "pycharm": {
     "name": "#%%\n"
    }
   }
  },
  {
   "cell_type": "markdown",
   "source": [
    "Объединим все это в единый пайплайн"
   ],
   "metadata": {
    "collapsed": false
   }
  },
  {
   "cell_type": "code",
   "execution_count": 12,
   "outputs": [],
   "source": [
    "feats = FeatureUnion(final_transformers)\n",
    "\n",
    "feature_processing = Pipeline([('feats', feats)])"
   ],
   "metadata": {
    "collapsed": false,
    "pycharm": {
     "name": "#%%\n"
    }
   }
  },
  {
   "cell_type": "markdown",
   "source": [
    "Теперь у нас есть пайплайн, который готовит признаки для моделирования.\n",
    "\n",
    "Добавим модель"
   ],
   "metadata": {
    "collapsed": false
   }
  },
  {
   "cell_type": "code",
   "execution_count": 13,
   "outputs": [],
   "source": [
    "from sklearn.ensemble import RandomForestClassifier\n",
    "\n",
    "pipeline = Pipeline([\n",
    "    ('features', feats),\n",
    "    ('classifier', RandomForestClassifier(random_state=42)),\n",
    "])"
   ],
   "metadata": {
    "collapsed": false,
    "pycharm": {
     "name": "#%%\n"
    }
   }
  },
  {
   "cell_type": "markdown",
   "source": [
    "Обучим модель"
   ],
   "metadata": {
    "collapsed": false
   }
  },
  {
   "cell_type": "code",
   "execution_count": 14,
   "outputs": [
    {
     "data": {
      "text/plain": "Pipeline(steps=[('features',\n                 FeatureUnion(transformer_list=[('Geography',\n                                                 Pipeline(steps=[('selector',\n                                                                  FeatureSelector(column='Geography')),\n                                                                 ('ohe',\n                                                                  OHEEncoder(key='Geography'))])),\n                                                ('Gender',\n                                                 Pipeline(steps=[('selector',\n                                                                  FeatureSelector(column='Gender')),\n                                                                 ('ohe',\n                                                                  OHEEncoder(key='Gender'))])),\n                                                ('Tenure',\n                                                 Pipeline(steps=[('selector',\n                                                                  FeatureSelector(column='Tenu...\n                                                 Pipeline(steps=[('selector',\n                                                                  NumberSelector(key='Age'))])),\n                                                ('Balance',\n                                                 Pipeline(steps=[('selector',\n                                                                  NumberSelector(key='Balance'))])),\n                                                ('NumOfProducts',\n                                                 Pipeline(steps=[('selector',\n                                                                  NumberSelector(key='NumOfProducts'))])),\n                                                ('EstimatedSalary',\n                                                 Pipeline(steps=[('selector',\n                                                                  NumberSelector(key='EstimatedSalary'))]))])),\n                ('classifier', RandomForestClassifier(random_state=42))])"
     },
     "execution_count": 14,
     "metadata": {},
     "output_type": "execute_result"
    }
   ],
   "source": [
    "# обучим наш пайплайн\n",
    "pipeline.fit(X_train, y_train)"
   ],
   "metadata": {
    "collapsed": false,
    "pycharm": {
     "name": "#%%\n"
    }
   }
  },
  {
   "cell_type": "code",
   "execution_count": 15,
   "outputs": [
    {
     "data": {
      "text/plain": "array([0.37, 0.26, 0.16, 0.02, 0.02, 0.67, 0.04, 0.12, 0.15, 0.75])"
     },
     "execution_count": 15,
     "metadata": {},
     "output_type": "execute_result"
    }
   ],
   "source": [
    "# наши прогнозы для тестовой выборки\n",
    "preds = pipeline.predict_proba(X_test)[:, 1]\n",
    "preds[:10]"
   ],
   "metadata": {
    "collapsed": false,
    "pycharm": {
     "name": "#%%\n"
    }
   }
  },
  {
   "cell_type": "markdown",
   "source": [
    "Также нам нужно от вероятностей перейти к меткам классов. Для этого нужно подобрать порог, после которого мы считаем, что объект можно отнести к классу 1 (если вероятность больше порога - размечаем объект как класс 1, если нет - класс 0)\n"
   ],
   "metadata": {
    "collapsed": false
   }
  },
  {
   "cell_type": "code",
   "execution_count": 16,
   "outputs": [
    {
     "name": "stdout",
     "output_type": "stream",
     "text": [
      "Best Threshold=0.38, F-Score=0.641, Precision=0.653, Recall=0.629\n"
     ]
    }
   ],
   "source": [
    "precision, recall, thresholds = precision_recall_curve(y_test, preds)\n",
    "\n",
    "fscore = (2 * precision * recall) / (precision + recall)\n",
    "# locate the index of the largest f score\n",
    "ix = np.argmax(fscore)\n",
    "print(f'Best Threshold={thresholds[ix]}, F-Score={fscore[ix]:.3f}, Precision={precision[ix]:.3f}, Recall={recall[ix]:.3f}')"
   ],
   "metadata": {
    "collapsed": false,
    "pycharm": {
     "name": "#%%\n"
    }
   }
  },
  {
   "cell_type": "markdown",
   "source": [
    "Отрисуем матрицу ошибок"
   ],
   "metadata": {
    "collapsed": false
   }
  },
  {
   "cell_type": "code",
   "execution_count": 17,
   "outputs": [],
   "source": [
    "def plot_confusion_matrix(cm, classes,\n",
    "                          normalize=False,\n",
    "                          title='Confusion matrix',\n",
    "                          cmap=plt.cm.Blues):\n",
    "    \"\"\"\n",
    "    This function prints and plots the confusion matrix.\n",
    "    Normalization can be applied by setting `normalize=True`.\n",
    "    \"\"\"\n",
    "    plt.imshow(cm, interpolation='nearest', cmap=cmap)\n",
    "    plt.title(title)\n",
    "    plt.colorbar()\n",
    "    tick_marks = np.arange(len(classes))\n",
    "    plt.xticks(tick_marks, classes, rotation=45)\n",
    "    plt.yticks(tick_marks, classes)\n",
    "\n",
    "    if normalize:\n",
    "        cm = cm.astype('float') / cm.sum(axis=1)[:, np.newaxis]\n",
    "        print(\"Normalized confusion matrix\")\n",
    "    else:\n",
    "        print('Confusion matrix, without normalization')\n",
    "\n",
    "    print(cm)\n",
    "\n",
    "    thresh = cm.max() / 2.\n",
    "    for i, j in itertools.product(range(cm.shape[0]), range(cm.shape[1])):\n",
    "        plt.text(j, i, cm[i, j],\n",
    "                 horizontalalignment=\"center\",\n",
    "                 color=\"white\" if cm[i, j] > thresh else \"black\")\n",
    "\n",
    "    plt.tight_layout()\n",
    "    plt.ylabel('True label')\n",
    "    plt.xlabel('Predicted label')"
   ],
   "metadata": {
    "collapsed": false,
    "pycharm": {
     "name": "#%%\n"
    }
   }
  },
  {
   "cell_type": "code",
   "execution_count": 18,
   "outputs": [
    {
     "name": "stdout",
     "output_type": "stream",
     "text": [
      "Confusion matrix, without normalization\n",
      "[[1832  159]\n",
      " [ 195  314]]\n"
     ]
    },
    {
     "data": {
      "text/plain": "<Figure size 432x288 with 2 Axes>",
      "image/png": "[encoded data removed]"
     },
     "metadata": {
      "needs_background": "light"
     },
     "output_type": "display_data"
    }
   ],
   "source": [
    "# мы уже нашли ранее \"оптимальный\" порог, когда максимизировали f_score\n",
    "font = {'size' : 15}\n",
    "\n",
    "plt.rc('font', **font)\n",
    "\n",
    "cnf_matrix = confusion_matrix(y_test, preds > thresholds[ix])\n",
    "plt.figure(figsize=(6, 4))\n",
    "plot_confusion_matrix(cnf_matrix, classes=['NonChurn', 'Churn'],\n",
    "                      title='Confusion matrix')\n",
    "plt.savefig(\"data/conf_matrix.png\")\n",
    "plt.show()"
   ],
   "metadata": {
    "collapsed": false,
    "pycharm": {
     "name": "#%%\n"
    }
   }
  },
  {
   "cell_type": "markdown",
   "source": [
    "Можно заметить, что мы очень сильно ошибаемся в сторону False Negatives, т.е у нас много тех, кто ушел в отток на самом деле, но при выбранном нами пороге в 0.38 мы не считаем их таковыми. "
   ],
   "metadata": {
    "collapsed": false
   }
  },
  {
   "cell_type": "markdown",
   "source": [
    "<b>Вопрос 2: предположим, что на удержание одного пользователя у нас уйдет 1 доллар. При этом средняя ожидаемая прибыль с каждого TP (true positive) - 2 доллара. Оцените качество модели выше с учетом этих данных и ответьте на вопрос, является ли она потенциально экономически целесообразной?</b>"
   ],
   "metadata": {
    "collapsed": false
   }
  },
  {
   "cell_type": "code",
   "execution_count": 19,
   "outputs": [
    {
     "data": {
      "text/plain": "155"
     },
     "execution_count": 19,
     "metadata": {},
     "output_type": "execute_result"
    }
   ],
   "source": [
    "TN = cnf_matrix[0][0]\n",
    "FP = cnf_matrix[0][1]\n",
    "FN = cnf_matrix[1][0]\n",
    "TP = cnf_matrix[1][1]\n",
    "\n",
    "\n",
    "retain_sum = (FP + TP) * 1\n",
    "income = TP * 2\n",
    "\n",
    "income - retain_sum"
   ],
   "metadata": {
    "collapsed": false,
    "pycharm": {
     "name": "#%%\n"
    }
   }
  },
  {
   "cell_type": "markdown",
   "source": [
    "#### Пример с перебором параметров с помощью GridSearch"
   ],
   "metadata": {
    "collapsed": false
   }
  },
  {
   "cell_type": "markdown",
   "source": [
    "Сетка с параметрами"
   ],
   "metadata": {
    "collapsed": false
   }
  },
  {
   "cell_type": "code",
   "execution_count": 20,
   "outputs": [],
   "source": [
    "from sklearn.model_selection import GridSearchCV\n",
    "\n",
    "params = {\n",
    "    'classifier__max_features':[0.3, 0.5, 0.7],\n",
    "    'classifier__min_samples_leaf':[1, 2, 3],\n",
    "    'classifier__class_weight':[{0:1, 1:4}, 'balanced_subsample']\n",
    "}"
   ],
   "metadata": {
    "collapsed": false,
    "pycharm": {
     "name": "#%%\n"
    }
   }
  },
  {
   "cell_type": "markdown",
   "source": [
    "Запускаем перебор"
   ],
   "metadata": {
    "collapsed": false
   }
  },
  {
   "cell_type": "code",
   "execution_count": 21,
   "outputs": [
    {
     "name": "stdout",
     "output_type": "stream",
     "text": [
      "CPU times: total: 2min 20s\n",
      "Wall time: 2min 22s\n"
     ]
    },
    {
     "data": {
      "text/plain": "{'classifier__class_weight': {0: 1, 1: 4},\n 'classifier__max_features': 0.3,\n 'classifier__min_samples_leaf': 1}"
     },
     "execution_count": 21,
     "metadata": {},
     "output_type": "execute_result"
    }
   ],
   "source": [
    "%%time\n",
    "grid = GridSearchCV(pipeline,\n",
    "                    param_grid=params,\n",
    "                    cv=6,\n",
    "                    refit=False)\n",
    "\n",
    "search = grid.fit(X_train, y_train)\n",
    "search.best_params_"
   ],
   "metadata": {
    "collapsed": false,
    "pycharm": {
     "name": "#%%\n"
    }
   }
  },
  {
   "cell_type": "code",
   "execution_count": 22,
   "outputs": [
    {
     "data": {
      "text/plain": "{'classifier__class_weight': {0: 1, 1: 4},\n 'classifier__max_features': 0.3,\n 'classifier__min_samples_leaf': 1}"
     },
     "execution_count": 22,
     "metadata": {},
     "output_type": "execute_result"
    }
   ],
   "source": [
    "search.best_params_"
   ],
   "metadata": {
    "collapsed": false,
    "pycharm": {
     "name": "#%%\n"
    }
   }
  },
  {
   "cell_type": "markdown",
   "source": [
    "Обучаем модель уже сновыми параметрами"
   ],
   "metadata": {
    "collapsed": false
   }
  },
  {
   "cell_type": "code",
   "execution_count": 23,
   "outputs": [
    {
     "data": {
      "text/plain": "Pipeline(steps=[('features',\n                 FeatureUnion(transformer_list=[('Geography',\n                                                 Pipeline(steps=[('selector',\n                                                                  FeatureSelector(column='Geography')),\n                                                                 ('ohe',\n                                                                  OHEEncoder(key='Geography'))])),\n                                                ('Gender',\n                                                 Pipeline(steps=[('selector',\n                                                                  FeatureSelector(column='Gender')),\n                                                                 ('ohe',\n                                                                  OHEEncoder(key='Gender'))])),\n                                                ('Tenure',\n                                                 Pipeline(steps=[('selector',\n                                                                  FeatureSelector(column='Tenu...\n                                                                  NumberSelector(key='Age'))])),\n                                                ('Balance',\n                                                 Pipeline(steps=[('selector',\n                                                                  NumberSelector(key='Balance'))])),\n                                                ('NumOfProducts',\n                                                 Pipeline(steps=[('selector',\n                                                                  NumberSelector(key='NumOfProducts'))])),\n                                                ('EstimatedSalary',\n                                                 Pipeline(steps=[('selector',\n                                                                  NumberSelector(key='EstimatedSalary'))]))])),\n                ('classifier',\n                 RandomForestClassifier(class_weight={0: 1, 1: 4},\n                                        max_features=0.3, random_state=42))])"
     },
     "execution_count": 23,
     "metadata": {},
     "output_type": "execute_result"
    }
   ],
   "source": [
    "pipeline = Pipeline([\n",
    "    ('features', feats),\n",
    "    ('classifier', RandomForestClassifier(max_depth=None, max_features=0.3, \n",
    "                                          min_samples_leaf=1, random_state=42,\n",
    "                                          class_weight={0:1, 1:4})),\n",
    "])\n",
    "pipeline.fit(X_train, y_train)"
   ],
   "metadata": {
    "collapsed": false,
    "pycharm": {
     "name": "#%%\n"
    }
   }
  },
  {
   "cell_type": "code",
   "execution_count": 24,
   "outputs": [
    {
     "name": "stdout",
     "output_type": "stream",
     "text": [
      "Best Threshold=0.43, F-Score=0.644, Precision=0.714, Recall=0.587\n",
      "Confusion matrix, without normalization\n",
      "[[1876  115]\n",
      " [ 216  293]]\n"
     ]
    },
    {
     "data": {
      "text/plain": "<Figure size 432x288 with 2 Axes>",
      "image/png": "[encoded data removed]"
     },
     "metadata": {
      "needs_background": "light"
     },
     "output_type": "display_data"
    }
   ],
   "source": [
    "preds = pipeline.predict_proba(X_test)[:, 1]\n",
    "precision, recall, thresholds = precision_recall_curve(y_test, preds)\n",
    "\n",
    "fscore = (2 * precision * recall) / (precision + recall)\n",
    "# locate the index of the largest f score\n",
    "ix = np.argmax(fscore)\n",
    "print(f'Best Threshold={thresholds[ix]}, F-Score={fscore[ix]:.3f}, Precision={precision[ix]:.3f}, Recall={recall[ix]:.3f}')\n",
    "\n",
    "#мы уже нашли ранее \"оптимальный\" порог, когда максимизировали f_score\n",
    "font = {'size' : 15}\n",
    "\n",
    "plt.rc('font', **font)\n",
    "\n",
    "cnf_matrix = confusion_matrix(y_test, preds>thresholds[ix])\n",
    "plt.figure(figsize=(6, 4))\n",
    "plot_confusion_matrix(cnf_matrix, classes=['NonChurn', 'Churn'],\n",
    "                      title='Confusion matrix')\n",
    "plt.savefig(\"data/conf_matrix.png\")\n",
    "plt.show()"
   ],
   "metadata": {
    "collapsed": false,
    "pycharm": {
     "name": "#%%\n"
    }
   }
  },
  {
   "cell_type": "code",
   "execution_count": 25,
   "outputs": [
    {
     "data": {
      "text/plain": "178"
     },
     "execution_count": 25,
     "metadata": {},
     "output_type": "execute_result"
    }
   ],
   "source": [
    "TN = cnf_matrix[0][0]\n",
    "FP = cnf_matrix[0][1]\n",
    "FN = cnf_matrix[1][0]\n",
    "TP = cnf_matrix[1][1]\n",
    "\n",
    "\n",
    "retain_sum = (FP + TP) * 1\n",
    "income = TP * 2\n",
    "\n",
    "income - retain_sum"
   ],
   "metadata": {
    "collapsed": false,
    "pycharm": {
     "name": "#%%\n"
    }
   }
  },
  {
   "cell_type": "markdown",
   "source": [
    "Метрики немного стали выше\n"
   ],
   "metadata": {
    "collapsed": false
   }
  },
  {
   "cell_type": "markdown",
   "source": [
    "## Домашнее задание"
   ],
   "metadata": {
    "collapsed": false
   }
  },
  {
   "cell_type": "markdown",
   "source": [
    "1. Для нашего пайплайна (Case1) поэкспериментировать с разными моделями:\n",
    "    - бустинг\n",
    "    - логистическая регрессия\n",
    "2. Отобрать лучшую модель по метрикам (какая по вашему мнению здесь наиболее подходящая ML-метрика)\n",
    "3. Для отобранной модели (на отложенной выборке) сделать оценку экономической эффективности при тех же вводных, как в вопросе 2:\n",
    "    - 1 доллар на удержание\n",
    "    - 2 доллара - с каждого правильно классифицированного (True Positive)\n",
    "4. *Провести подбор гиперпараметров лучшей модели по итогам 2-3\n",
    "5. *Еще раз провести оценку экономической эффективности"
   ],
   "metadata": {
    "collapsed": false
   }
  },
  {
   "cell_type": "markdown",
   "source": [
    "Немножко начать с планирования. Перед тем как учить модели классификации, понять что мы измеряем и какие метрики нам нужны: <br>\n",
    "Roc auc, Accuracy отпадают сразу, т.к еще из первых ячеек виден дизбаланс классов, да и в жизни в подобной задаче будет однозначно дизбаланс<br>\n",
    "F меру считаем само собой, осталось понять в какую метрику нам нужен более сильный уклон Precision или Recall?<br>\n",
    "Recall: мы \"видим\" или \"замечаем\" как можно больше клиентов которые собираются оттечь<br>\n",
    "Precision: Мы ошибочно считаем что клиент должен уйти, но он не ушел. Мы зря потратили на его удержание ресурсы<br>\n",
    "Отсюда предварительно считаем f1 с упором в Recall. Логически нам recall важнее.<br>\n",
    "Решающей в этом вопросе будет конечно же бизнес метрика, но бизнес метрики уже будем смотреть после обучения бейзлайна, чтобы было на чем смотреть<br>\n",
    "\n",
    "(сразу зацепил 2ой пункт дз. Но мне кажется логичнее сначала спланировать что мы хотим посчитать и какие метрики нужны, а потом учить модели)"
   ],
   "metadata": {
    "collapsed": false,
    "pycharm": {
     "name": "#%% md\n"
    }
   }
  },
  {
   "cell_type": "code",
   "execution_count": 26,
   "outputs": [
    {
     "name": "stdout",
     "output_type": "stream",
     "text": [
      "Best Threshold=0.3717522076017362, F-Score=0.640, Precision=0.629, Recall=0.650\n"
     ]
    }
   ],
   "source": [
    "#Процесс получения метрик и обучения пайплайна сразу оберну в функцию наверное\n",
    "def pipeline_preparing_and_metrics(classifier, x_train, y_train, x_test):\n",
    "    pipeline = Pipeline([\n",
    "        ('features', feats),\n",
    "        ('classifier', classifier),\n",
    "    ])\n",
    "\n",
    "    # обучим наш пайплайн\n",
    "    pipeline.fit(x_train, y_train)\n",
    "    # наши прогнозы для тестовой выборки\n",
    "    preds = pipeline.predict_proba(x_test)[:, 1]\n",
    "    precision, recall, thresholds = precision_recall_curve(y_test, preds)\n",
    "    # Тут мы избавляемся от чистых 0 и 1 в векторах с precision и recall добавляя маленькую погрешность, иначе формула fscore может лихорадить\n",
    "    recall = np.where(recall-1e-08<0, recall-1e-08, recall+1e-08)\n",
    "    precision = np.where(precision-1e-08<0, precision-1e-08, precision+1e-08)\n",
    "    fscore = (2 * precision * recall) / (precision + recall)\n",
    "    # locate the index of the largest f score\n",
    "    ix= np.argmax(fscore)\n",
    "    return pipeline, fscore[ix], precision[ix], recall[ix], thresholds[ix]\n",
    "\n",
    "#Возьму первой моделью Катбуст\n",
    "catboost, fscore_catboost, precision_catboost, recall_catboost, threshold_catboost\\\n",
    "    = pipeline_preparing_and_metrics(CatBoostClassifier(iterations=30, random_state=42, silent=True), X_train, y_train, X_test)\n",
    "print(f'Best Threshold={threshold_catboost}, F-Score={fscore_catboost:.3f}, Precision={precision_catboost:.3f}, Recall={recall_catboost:.3f}')"
   ],
   "metadata": {
    "collapsed": false,
    "pycharm": {
     "name": "#%%\n"
    }
   }
  },
  {
   "cell_type": "code",
   "execution_count": 27,
   "outputs": [
    {
     "name": "stdout",
     "output_type": "stream",
     "text": [
      "Best Threshold=0.19991966660410365, F-Score=0.411, Precision=0.296, Recall=0.676\n"
     ]
    }
   ],
   "source": [
    "#И тут же второй моделью обучу Логистическую регрессию\n",
    "logreg, fscore_logreg, precision_logreg, recall_logreg, threshold_logreg = \\\n",
    "    pipeline_preparing_and_metrics(LogisticRegression(random_state=42), X_train, y_train, X_test)\n",
    "print(f'Best Threshold={threshold_logreg}, F-Score={fscore_logreg:.3f}, Precision={precision_logreg:.3f}, Recall={recall_logreg:.3f}')"
   ],
   "metadata": {
    "collapsed": false,
    "pycharm": {
     "name": "#%%\n"
    }
   }
  },
  {
   "cell_type": "markdown",
   "source": [
    "Ожидаемо что катбуст справится с задачей лучше чем логистическая регрессия<br>\n",
    "Посмотрим теперь какой экономический прирост дает катбуст<br>\n",
    "Построим матрицу ошибок также как до этого и посчитаем\n"
   ],
   "metadata": {
    "collapsed": false
   }
  },
  {
   "cell_type": "code",
   "execution_count": 28,
   "outputs": [
    {
     "name": "stdout",
     "output_type": "stream",
     "text": [
      "Confusion matrix, without normalization\n",
      "[[1796  195]\n",
      " [ 179  330]]\n"
     ]
    },
    {
     "data": {
      "text/plain": "<Figure size 432x288 with 2 Axes>",
      "image/png": "[encoded data removed]"
     },
     "metadata": {
      "needs_background": "light"
     },
     "output_type": "display_data"
    }
   ],
   "source": [
    "#Матрица ошибок\n",
    "preds = catboost.predict_proba(X_test)[:, 1]\n",
    "font = {'size' : 15}\n",
    "\n",
    "plt.rc('font', **font)\n",
    "\n",
    "cnf_matrix = confusion_matrix(y_test, preds>threshold_catboost)\n",
    "plt.figure(figsize=(6, 4))\n",
    "plot_confusion_matrix(cnf_matrix, classes=['NonChurn', 'Churn'],\n",
    "                      title='Confusion matrix')\n",
    "plt.show()"
   ],
   "metadata": {
    "collapsed": false,
    "pycharm": {
     "name": "#%%\n"
    }
   }
  },
  {
   "cell_type": "code",
   "execution_count": 29,
   "outputs": [
    {
     "data": {
      "text/plain": "135"
     },
     "execution_count": 29,
     "metadata": {},
     "output_type": "execute_result"
    }
   ],
   "source": [
    "#Подсчет наших финансов\n",
    "TN = cnf_matrix[0][0]\n",
    "FP = cnf_matrix[0][1]\n",
    "FN = cnf_matrix[1][0]\n",
    "TP = cnf_matrix[1][1]\n",
    "\n",
    "\n",
    "retain_sum = (FP + TP) * 1\n",
    "income = TP * 2\n",
    "\n",
    "income - retain_sum"
   ],
   "metadata": {
    "collapsed": false,
    "pycharm": {
     "name": "#%%\n"
    }
   }
  },
  {
   "cell_type": "markdown",
   "source": [
    "Видя результаты, мои рассуждения оказались все таки неверны. С учетом финансовых коэффициентов presicion важнее recall.<br>\n",
    "Если подбирать гиперпараметры и отсечку, скорее всего можно добиться более высоких результатов<br>\n",
    "Но сейчас пока остановлюсь на этом<br>\n",
    "\n",
    "P.S У лесной модели, которая была на уроке, обученной на сетке Precision выше поэтому и бизнес результат лучше"
   ],
   "metadata": {
    "collapsed": false
   }
  }
 ],
 "metadata": {
  "kernelspec": {
   "display_name": "Python 3",
   "language": "python",
   "name": "python3"
  },
  "language_info": {
   "codemirror_mode": {
    "name": "ipython",
    "version": 3
   },
   "file_extension": ".py",
   "mimetype": "text/x-python",
   "name": "python",
   "nbconvert_exporter": "python",
   "pygments_lexer": "ipython3",
   "version": "3.7.3"
  },
  "colab": {
   "name": "Lesson_5.ipynb",
   "provenance": [],
   "collapsed_sections": [],
   "toc_visible": true
  }
 },
 "nbformat": 4,
 "nbformat_minor": 0
}