{
 "cells": [
  {
   "cell_type": "code",
   "execution_count": 1,
   "metadata": {
    "collapsed": true
   },
   "outputs": [],
   "source": [
    "import numpy as np\n",
    "import pandas as pd\n",
    "from sklearn.model_selection import train_test_split\n",
    "from sklift.metrics import uplift_at_k\n",
    "from sklift.models import SoloModel, TwoModels, ClassTransformation\n",
    "from catboost import CatBoostClassifier"
   ]
  },
  {
   "cell_type": "code",
   "execution_count": 2,
   "outputs": [
    {
     "data": {
      "text/plain": "       recency  history  used_discount  used_bogo   zip_code  is_referral  \\\nid                                                                          \n0           10   142.44              1          0  Surburban            0   \n1            6   329.08              1          1      Rural            1   \n2            7   180.65              0          1  Surburban            1   \n3            9   675.83              1          0      Rural            1   \n4            2    45.34              1          0      Urban            0   \n...        ...      ...            ...        ...        ...          ...   \n63995       10   105.54              1          0      Urban            0   \n63996        5    38.91              0          1      Urban            1   \n63997        6    29.99              1          0      Urban            1   \n63998        1   552.94              1          0  Surburban            1   \n63999        1   472.82              0          1  Surburban            0   \n\n            channel  treatment  target  \nid                                      \n0             Phone          1       0  \n1               Web          0       0  \n2               Web          1       0  \n3               Web          1       0  \n4               Web          1       0  \n...             ...        ...     ...  \n63995           Web          1       0  \n63996         Phone          1       0  \n63997         Phone          1       0  \n63998  Multichannel          1       0  \n63999           Web          1       0  \n\n[64000 rows x 9 columns]",
      "text/html": "<div>\n<style scoped>\n    .dataframe tbody tr th:only-of-type {\n        vertical-align: middle;\n    }\n\n    .dataframe tbody tr th {\n        vertical-align: top;\n    }\n\n    .dataframe thead th {\n        text-align: right;\n    }\n</style>\n<table border=\"1\" class=\"dataframe\">\n  <thead>\n    <tr style=\"text-align: right;\">\n      <th></th>\n      <th>recency</th>\n      <th>history</th>\n      <th>used_discount</th>\n      <th>used_bogo</th>\n      <th>zip_code</th>\n      <th>is_referral</th>\n      <th>channel</th>\n      <th>treatment</th>\n      <th>target</th>\n    </tr>\n    <tr>\n      <th>id</th>\n      <th></th>\n      <th></th>\n      <th></th>\n      <th></th>\n      <th></th>\n      <th></th>\n      <th></th>\n      <th></th>\n      <th></th>\n    </tr>\n  </thead>\n  <tbody>\n    <tr>\n      <th>0</th>\n      <td>10</td>\n      <td>142.44</td>\n      <td>1</td>\n      <td>0</td>\n      <td>Surburban</td>\n      <td>0</td>\n      <td>Phone</td>\n      <td>1</td>\n      <td>0</td>\n    </tr>\n    <tr>\n      <th>1</th>\n      <td>6</td>\n      <td>329.08</td>\n      <td>1</td>\n      <td>1</td>\n      <td>Rural</td>\n      <td>1</td>\n      <td>Web</td>\n      <td>0</td>\n      <td>0</td>\n    </tr>\n    <tr>\n      <th>2</th>\n      <td>7</td>\n      <td>180.65</td>\n      <td>0</td>\n      <td>1</td>\n      <td>Surburban</td>\n      <td>1</td>\n      <td>Web</td>\n      <td>1</td>\n      <td>0</td>\n    </tr>\n    <tr>\n      <th>3</th>\n      <td>9</td>\n      <td>675.83</td>\n      <td>1</td>\n      <td>0</td>\n      <td>Rural</td>\n      <td>1</td>\n      <td>Web</td>\n      <td>1</td>\n      <td>0</td>\n    </tr>\n    <tr>\n      <th>4</th>\n      <td>2</td>\n      <td>45.34</td>\n      <td>1</td>\n      <td>0</td>\n      <td>Urban</td>\n      <td>0</td>\n      <td>Web</td>\n      <td>1</td>\n      <td>0</td>\n    </tr>\n    <tr>\n      <th>...</th>\n      <td>...</td>\n      <td>...</td>\n      <td>...</td>\n      <td>...</td>\n      <td>...</td>\n      <td>...</td>\n      <td>...</td>\n      <td>...</td>\n      <td>...</td>\n    </tr>\n    <tr>\n      <th>63995</th>\n      <td>10</td>\n      <td>105.54</td>\n      <td>1</td>\n      <td>0</td>\n      <td>Urban</td>\n      <td>0</td>\n      <td>Web</td>\n      <td>1</td>\n      <td>0</td>\n    </tr>\n    <tr>\n      <th>63996</th>\n      <td>5</td>\n      <td>38.91</td>\n      <td>0</td>\n      <td>1</td>\n      <td>Urban</td>\n      <td>1</td>\n      <td>Phone</td>\n      <td>1</td>\n      <td>0</td>\n    </tr>\n    <tr>\n      <th>63997</th>\n      <td>6</td>\n      <td>29.99</td>\n      <td>1</td>\n      <td>0</td>\n      <td>Urban</td>\n      <td>1</td>\n      <td>Phone</td>\n      <td>1</td>\n      <td>0</td>\n    </tr>\n    <tr>\n      <th>63998</th>\n      <td>1</td>\n      <td>552.94</td>\n      <td>1</td>\n      <td>0</td>\n      <td>Surburban</td>\n      <td>1</td>\n      <td>Multichannel</td>\n      <td>1</td>\n      <td>0</td>\n    </tr>\n    <tr>\n      <th>63999</th>\n      <td>1</td>\n      <td>472.82</td>\n      <td>0</td>\n      <td>1</td>\n      <td>Surburban</td>\n      <td>0</td>\n      <td>Web</td>\n      <td>1</td>\n      <td>0</td>\n    </tr>\n  </tbody>\n</table>\n<p>64000 rows × 9 columns</p>\n</div>"
     },
     "execution_count": 2,
     "metadata": {},
     "output_type": "execute_result"
    }
   ],
   "source": [
    "#Загрузим датафрейм\n",
    "df_main = pd.read_csv('data/data.csv')\n",
    "#Переименуем колонки\n",
    "df_main.rename(columns = {'conversion' : 'target', 'offer' : 'treatment'}, inplace = True)\n",
    "#Трансформируем Treatment\n",
    "df_main['treatment'] = np.where(df_main['treatment'] != 'No Offer', 1, 0)\n",
    "#Добавим колонку с id шниками как индексы\n",
    "df_main['id'] = df_main.index\n",
    "df_main.set_index('id',inplace=True)\n",
    "df_main"
   ],
   "metadata": {
    "collapsed": false,
    "pycharm": {
     "name": "#%%\n"
    }
   }
  },
  {
   "cell_type": "markdown",
   "source": [
    "Мне кажется что сделать сначала feature feature engineering лучше, а потом уже разбивать, дробить данные и т.д, то есть данные должны быть сначала подготовленны, а потом уже работать с ними.<br>\n",
    "Была мысль сделать фичи из \"Offer\", но оффер - целевое действие, которое нельзя проверять уже свершив его, поэтому признаки делать из него некорректно получается<br>\n",
    "Смотря на датасет особо не понятно какие признаки можно делать, можно добавить признак категорию: Loyality_programm: 0, если вообще не использует никакие программы, 1 если использует или скидку или 1+1, но не обе сразу. И 2 если использует все возможные программы лояльности.<br>\n",
    "Других вариантов для составления признаков особо не вижу\n",
    "\n",
    "Колонку сделаю по такому плану: Создам ее со значением по умолчанию = 1, а потом по условиям, если оба поля лояльности = 0, то ее в ноль ставим, если оба в 1, то в 1."
   ],
   "metadata": {
    "collapsed": false
   }
  },
  {
   "cell_type": "code",
   "source": [
    "def loyalty_encoder(df):\n",
    "    df['loyalty_category'] = 1\n",
    "    df.loc[(df.used_discount == 1) & (df.used_bogo == 1), 'loyalty_category'] = 2\n",
    "    df.loc[(df.used_discount == 0) & (df.used_bogo == 0), 'loyalty_category'] = 0\n",
    "    return df\n",
    "#Добавляем новую категорию по лояльности\n",
    "df_main = loyalty_encoder(df_main)\n",
    "df_main"
   ],
   "metadata": {
    "collapsed": false,
    "pycharm": {
     "name": "#%%\n"
    }
   },
   "execution_count": 3,
   "outputs": [
    {
     "data": {
      "text/plain": "       recency  history  used_discount  used_bogo   zip_code  is_referral  \\\nid                                                                          \n0           10   142.44              1          0  Surburban            0   \n1            6   329.08              1          1      Rural            1   \n2            7   180.65              0          1  Surburban            1   \n3            9   675.83              1          0      Rural            1   \n4            2    45.34              1          0      Urban            0   \n...        ...      ...            ...        ...        ...          ...   \n63995       10   105.54              1          0      Urban            0   \n63996        5    38.91              0          1      Urban            1   \n63997        6    29.99              1          0      Urban            1   \n63998        1   552.94              1          0  Surburban            1   \n63999        1   472.82              0          1  Surburban            0   \n\n            channel  treatment  target  loyalty_category  \nid                                                        \n0             Phone          1       0                 1  \n1               Web          0       0                 2  \n2               Web          1       0                 1  \n3               Web          1       0                 1  \n4               Web          1       0                 1  \n...             ...        ...     ...               ...  \n63995           Web          1       0                 1  \n63996         Phone          1       0                 1  \n63997         Phone          1       0                 1  \n63998  Multichannel          1       0                 1  \n63999           Web          1       0                 1  \n\n[64000 rows x 10 columns]",
      "text/html": "<div>\n<style scoped>\n    .dataframe tbody tr th:only-of-type {\n        vertical-align: middle;\n    }\n\n    .dataframe tbody tr th {\n        vertical-align: top;\n    }\n\n    .dataframe thead th {\n        text-align: right;\n    }\n</style>\n<table border=\"1\" class=\"dataframe\">\n  <thead>\n    <tr style=\"text-align: right;\">\n      <th></th>\n      <th>recency</th>\n      <th>history</th>\n      <th>used_discount</th>\n      <th>used_bogo</th>\n      <th>zip_code</th>\n      <th>is_referral</th>\n      <th>channel</th>\n      <th>treatment</th>\n      <th>target</th>\n      <th>loyalty_category</th>\n    </tr>\n    <tr>\n      <th>id</th>\n      <th></th>\n      <th></th>\n      <th></th>\n      <th></th>\n      <th></th>\n      <th></th>\n      <th></th>\n      <th></th>\n      <th></th>\n      <th></th>\n    </tr>\n  </thead>\n  <tbody>\n    <tr>\n      <th>0</th>\n      <td>10</td>\n      <td>142.44</td>\n      <td>1</td>\n      <td>0</td>\n      <td>Surburban</td>\n      <td>0</td>\n      <td>Phone</td>\n      <td>1</td>\n      <td>0</td>\n      <td>1</td>\n    </tr>\n    <tr>\n      <th>1</th>\n      <td>6</td>\n      <td>329.08</td>\n      <td>1</td>\n      <td>1</td>\n      <td>Rural</td>\n      <td>1</td>\n      <td>Web</td>\n      <td>0</td>\n      <td>0</td>\n      <td>2</td>\n    </tr>\n    <tr>\n      <th>2</th>\n      <td>7</td>\n      <td>180.65</td>\n      <td>0</td>\n      <td>1</td>\n      <td>Surburban</td>\n      <td>1</td>\n      <td>Web</td>\n      <td>1</td>\n      <td>0</td>\n      <td>1</td>\n    </tr>\n    <tr>\n      <th>3</th>\n      <td>9</td>\n      <td>675.83</td>\n      <td>1</td>\n      <td>0</td>\n      <td>Rural</td>\n      <td>1</td>\n      <td>Web</td>\n      <td>1</td>\n      <td>0</td>\n      <td>1</td>\n    </tr>\n    <tr>\n      <th>4</th>\n      <td>2</td>\n      <td>45.34</td>\n      <td>1</td>\n      <td>0</td>\n      <td>Urban</td>\n      <td>0</td>\n      <td>Web</td>\n      <td>1</td>\n      <td>0</td>\n      <td>1</td>\n    </tr>\n    <tr>\n      <th>...</th>\n      <td>...</td>\n      <td>...</td>\n      <td>...</td>\n      <td>...</td>\n      <td>...</td>\n      <td>...</td>\n      <td>...</td>\n      <td>...</td>\n      <td>...</td>\n      <td>...</td>\n    </tr>\n    <tr>\n      <th>63995</th>\n      <td>10</td>\n      <td>105.54</td>\n      <td>1</td>\n      <td>0</td>\n      <td>Urban</td>\n      <td>0</td>\n      <td>Web</td>\n      <td>1</td>\n      <td>0</td>\n      <td>1</td>\n    </tr>\n    <tr>\n      <th>63996</th>\n      <td>5</td>\n      <td>38.91</td>\n      <td>0</td>\n      <td>1</td>\n      <td>Urban</td>\n      <td>1</td>\n      <td>Phone</td>\n      <td>1</td>\n      <td>0</td>\n      <td>1</td>\n    </tr>\n    <tr>\n      <th>63997</th>\n      <td>6</td>\n      <td>29.99</td>\n      <td>1</td>\n      <td>0</td>\n      <td>Urban</td>\n      <td>1</td>\n      <td>Phone</td>\n      <td>1</td>\n      <td>0</td>\n      <td>1</td>\n    </tr>\n    <tr>\n      <th>63998</th>\n      <td>1</td>\n      <td>552.94</td>\n      <td>1</td>\n      <td>0</td>\n      <td>Surburban</td>\n      <td>1</td>\n      <td>Multichannel</td>\n      <td>1</td>\n      <td>0</td>\n      <td>1</td>\n    </tr>\n    <tr>\n      <th>63999</th>\n      <td>1</td>\n      <td>472.82</td>\n      <td>0</td>\n      <td>1</td>\n      <td>Surburban</td>\n      <td>0</td>\n      <td>Web</td>\n      <td>1</td>\n      <td>0</td>\n      <td>1</td>\n    </tr>\n  </tbody>\n</table>\n<p>64000 rows × 10 columns</p>\n</div>"
     },
     "execution_count": 3,
     "metadata": {},
     "output_type": "execute_result"
    }
   ]
  },
  {
   "cell_type": "code",
   "execution_count": 4,
   "outputs": [],
   "source": [
    "#Бьем на треин тест\n",
    "train, test = train_test_split(df_main, test_size=0.3, random_state=42)\n",
    "#Делаем данные для обучения\n",
    "y_train = train.loc[train.index, 'target']\n",
    "treat_train = train.loc[train.index, 'treatment']\n",
    "train_features = train.drop(['target', 'treatment'], axis=1)\n",
    "#То же самое нам нужно для теста\n",
    "y_test = test.loc[test.index, 'target']\n",
    "treat_test = test.loc[test.index, 'treatment']\n",
    "test_features = test.drop(['target', 'treatment'], axis=1)"
   ],
   "metadata": {
    "collapsed": false,
    "pycharm": {
     "name": "#%%\n"
    }
   }
  },
  {
   "cell_type": "code",
   "execution_count": 5,
   "outputs": [],
   "source": [
    "#Обозначим категориальные признаки\n",
    "cat_features = ['zip_code', 'channel']\n",
    "#Подготовим словарь под результаты\n",
    "models_results = {\n",
    "    'model': [],\n",
    "    'uplift@10%': [],\n",
    "    'uplift@20%': []\n",
    "}\n",
    "#В следующих ячейках уже обучаем модели"
   ],
   "metadata": {
    "collapsed": false,
    "pycharm": {
     "name": "#%%\n"
    }
   }
  },
  {
   "cell_type": "code",
   "execution_count": 6,
   "outputs": [],
   "source": [
    "#Соло модель\n",
    "sm = SoloModel(\n",
    "    CatBoostClassifier(iterations=30, random_state=42, silent=True, cat_features=cat_features)\n",
    ")\n",
    "\n",
    "sm = sm.fit(train_features, y_train, treat_train)\n",
    "\n",
    "uplift_sm = sm.predict(test_features)\n",
    "\n",
    "sm10_score = uplift_at_k(y_true=y_test, uplift=uplift_sm, treatment=treat_test, strategy='by_group', k=0.1)\n",
    "sm20_score = uplift_at_k(y_true=y_test, uplift=uplift_sm, treatment=treat_test, strategy='by_group', k=0.2)\n",
    "models_results['model'].append('SoloModel')\n",
    "models_results['uplift@10%'].append(sm10_score)\n",
    "models_results['uplift@20%'].append(sm20_score)"
   ],
   "metadata": {
    "collapsed": false,
    "pycharm": {
     "name": "#%%\n"
    }
   }
  },
  {
   "cell_type": "code",
   "execution_count": 7,
   "outputs": [],
   "source": [
    "#Трансформация классов\n",
    "ct = ClassTransformation(\n",
    "    CatBoostClassifier(iterations=30, random_state=42, silent=True, cat_features=cat_features)\n",
    ")\n",
    "ct = ct.fit(train_features, y_train, treat_train)\n",
    "\n",
    "uplift_ct = ct.predict(test_features)\n",
    "\n",
    "ct10_score = uplift_at_k(y_true=y_test, uplift=uplift_ct, treatment=treat_test, strategy='by_group', k=0.1)\n",
    "ct20_score = uplift_at_k(y_true=y_test, uplift=uplift_ct, treatment=treat_test, strategy='by_group', k=0.2)\n",
    "\n",
    "models_results['model'].append('ClassTransformation')\n",
    "models_results['uplift@10%'].append(ct10_score)\n",
    "models_results['uplift@20%'].append(ct20_score)"
   ],
   "metadata": {
    "collapsed": false,
    "pycharm": {
     "name": "#%%\n"
    }
   }
  },
  {
   "cell_type": "code",
   "execution_count": 8,
   "outputs": [],
   "source": [
    "#Две независимые модели\n",
    "tm = TwoModels(\n",
    "    CatBoostClassifier(iterations=30, random_state=42, silent=True, cat_features=cat_features),\n",
    "    CatBoostClassifier(iterations=30, random_state=42, silent=True, cat_features=cat_features),\n",
    "    method='vanilla'  # независимые модели\n",
    ")\n",
    "tm = tm.fit(train_features, y_train, treat_train)\n",
    "\n",
    "uplift_tm = tm.predict(test_features)\n",
    "\n",
    "tm10_score = uplift_at_k(y_true=y_test, uplift=uplift_tm, treatment=treat_test, strategy='by_group', k=0.1)\n",
    "tm20_score = uplift_at_k(y_true=y_test, uplift=uplift_tm, treatment=treat_test, strategy='by_group', k=0.1)\n",
    "models_results['model'].append('TwoModels')\n",
    "models_results['uplift@10%'].append(tm10_score)\n",
    "models_results['uplift@20%'].append(tm20_score)\n"
   ],
   "metadata": {
    "collapsed": false,
    "pycharm": {
     "name": "#%%\n"
    }
   }
  },
  {
   "cell_type": "code",
   "source": [
    "pd.DataFrame(data=models_results).sort_values('uplift@10%', ascending=False)\n",
    "\n"
   ],
   "metadata": {
    "collapsed": false,
    "pycharm": {
     "name": "#%%\n"
    }
   },
   "execution_count": 9,
   "outputs": [
    {
     "data": {
      "text/plain": "                 model  uplift@10%  uplift@20%\n0            SoloModel    0.110469    0.101803\n1  ClassTransformation    0.105847    0.097598\n2            TwoModels    0.091589    0.091589",
      "text/html": "<div>\n<style scoped>\n    .dataframe tbody tr th:only-of-type {\n        vertical-align: middle;\n    }\n\n    .dataframe tbody tr th {\n        vertical-align: top;\n    }\n\n    .dataframe thead th {\n        text-align: right;\n    }\n</style>\n<table border=\"1\" class=\"dataframe\">\n  <thead>\n    <tr style=\"text-align: right;\">\n      <th></th>\n      <th>model</th>\n      <th>uplift@10%</th>\n      <th>uplift@20%</th>\n    </tr>\n  </thead>\n  <tbody>\n    <tr>\n      <th>0</th>\n      <td>SoloModel</td>\n      <td>0.110469</td>\n      <td>0.101803</td>\n    </tr>\n    <tr>\n      <th>1</th>\n      <td>ClassTransformation</td>\n      <td>0.105847</td>\n      <td>0.097598</td>\n    </tr>\n    <tr>\n      <th>2</th>\n      <td>TwoModels</td>\n      <td>0.091589</td>\n      <td>0.091589</td>\n    </tr>\n  </tbody>\n</table>\n</div>"
     },
     "execution_count": 9,
     "metadata": {},
     "output_type": "execute_result"
    }
   ]
  },
  {
   "cell_type": "markdown",
   "source": [
    "Странно что у соломодели больше аплифт, может что-то сделал не так?"
   ],
   "metadata": {
    "collapsed": false,
    "pycharm": {
     "name": "#%% md\n"
    }
   }
  }
 ],
 "metadata": {
  "kernelspec": {
   "display_name": "Python 3",
   "language": "python",
   "name": "python3"
  },
  "language_info": {
   "codemirror_mode": {
    "name": "ipython",
    "version": 2
   },
   "file_extension": ".py",
   "mimetype": "text/x-python",
   "name": "python",
   "nbconvert_exporter": "python",
   "pygments_lexer": "ipython2",
   "version": "2.7.6"
  }
 },
 "nbformat": 4,
 "nbformat_minor": 0
}