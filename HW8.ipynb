{
 "cells": [
  {
   "cell_type": "code",
   "execution_count": 1,
   "metadata": {
    "collapsed": true
   },
   "outputs": [],
   "source": [
    "import numpy as np\n",
    "import pandas as pd\n",
    "from statsmodels.stats import proportion\n",
    "import matplotlib.pyplot as plt"
   ]
  },
  {
   "cell_type": "code",
   "execution_count": 2,
   "outputs": [
    {
     "data": {
      "text/plain": "       user_id date_served marketing_channel  variant language_displayed  \\\ncount    10037       10021             10022    10037              10037   \nunique   10037          31                 5        2                  4   \ntop      a1000     1/15/18         House Ads  control            English   \nfreq         1         789              4733     5091               9793   \n\n       converted  \ncount      10022  \nunique         2  \ntop        False  \nfreq        8946  ",
      "text/html": "<div>\n<style scoped>\n    .dataframe tbody tr th:only-of-type {\n        vertical-align: middle;\n    }\n\n    .dataframe tbody tr th {\n        vertical-align: top;\n    }\n\n    .dataframe thead th {\n        text-align: right;\n    }\n</style>\n<table border=\"1\" class=\"dataframe\">\n  <thead>\n    <tr style=\"text-align: right;\">\n      <th></th>\n      <th>user_id</th>\n      <th>date_served</th>\n      <th>marketing_channel</th>\n      <th>variant</th>\n      <th>language_displayed</th>\n      <th>converted</th>\n    </tr>\n  </thead>\n  <tbody>\n    <tr>\n      <th>count</th>\n      <td>10037</td>\n      <td>10021</td>\n      <td>10022</td>\n      <td>10037</td>\n      <td>10037</td>\n      <td>10022</td>\n    </tr>\n    <tr>\n      <th>unique</th>\n      <td>10037</td>\n      <td>31</td>\n      <td>5</td>\n      <td>2</td>\n      <td>4</td>\n      <td>2</td>\n    </tr>\n    <tr>\n      <th>top</th>\n      <td>a1000</td>\n      <td>1/15/18</td>\n      <td>House Ads</td>\n      <td>control</td>\n      <td>English</td>\n      <td>False</td>\n    </tr>\n    <tr>\n      <th>freq</th>\n      <td>1</td>\n      <td>789</td>\n      <td>4733</td>\n      <td>5091</td>\n      <td>9793</td>\n      <td>8946</td>\n    </tr>\n  </tbody>\n</table>\n</div>"
     },
     "execution_count": 2,
     "metadata": {},
     "output_type": "execute_result"
    }
   ],
   "source": [
    "data = pd.read_csv('data/marketing_campaign.csv')\n",
    "data.describe()"
   ],
   "metadata": {
    "collapsed": false,
    "pycharm": {
     "name": "#%%\n"
    }
   }
  },
  {
   "cell_type": "code",
   "execution_count": 3,
   "outputs": [
    {
     "data": {
      "text/plain": "      user_id date_served marketing_channel          variant  \\\n0       a1000      1/1/18         House Ads  personalization   \n1       a1001      1/1/18         House Ads  personalization   \n2       a1002      1/1/18         House Ads  personalization   \n3       a1003      1/1/18         House Ads  personalization   \n4       a1004      1/1/18         House Ads  personalization   \n...       ...         ...               ...              ...   \n10032  a11032     1/17/18             Email          control   \n10033  a11033     1/17/18             Email          control   \n10034  a11034      1/5/18         Instagram          control   \n10035  a11035     1/17/18             Email          control   \n10036  a11036      1/6/18          Facebook          control   \n\n      language_displayed converted  \n0                English      True  \n1                English      True  \n2                English      True  \n3                English      True  \n4                English      True  \n...                  ...       ...  \n10032             German      True  \n10033             German      True  \n10034             German     False  \n10035             German      True  \n10036             German     False  \n\n[10037 rows x 6 columns]",
      "text/html": "<div>\n<style scoped>\n    .dataframe tbody tr th:only-of-type {\n        vertical-align: middle;\n    }\n\n    .dataframe tbody tr th {\n        vertical-align: top;\n    }\n\n    .dataframe thead th {\n        text-align: right;\n    }\n</style>\n<table border=\"1\" class=\"dataframe\">\n  <thead>\n    <tr style=\"text-align: right;\">\n      <th></th>\n      <th>user_id</th>\n      <th>date_served</th>\n      <th>marketing_channel</th>\n      <th>variant</th>\n      <th>language_displayed</th>\n      <th>converted</th>\n    </tr>\n  </thead>\n  <tbody>\n    <tr>\n      <th>0</th>\n      <td>a1000</td>\n      <td>1/1/18</td>\n      <td>House Ads</td>\n      <td>personalization</td>\n      <td>English</td>\n      <td>True</td>\n    </tr>\n    <tr>\n      <th>1</th>\n      <td>a1001</td>\n      <td>1/1/18</td>\n      <td>House Ads</td>\n      <td>personalization</td>\n      <td>English</td>\n      <td>True</td>\n    </tr>\n    <tr>\n      <th>2</th>\n      <td>a1002</td>\n      <td>1/1/18</td>\n      <td>House Ads</td>\n      <td>personalization</td>\n      <td>English</td>\n      <td>True</td>\n    </tr>\n    <tr>\n      <th>3</th>\n      <td>a1003</td>\n      <td>1/1/18</td>\n      <td>House Ads</td>\n      <td>personalization</td>\n      <td>English</td>\n      <td>True</td>\n    </tr>\n    <tr>\n      <th>4</th>\n      <td>a1004</td>\n      <td>1/1/18</td>\n      <td>House Ads</td>\n      <td>personalization</td>\n      <td>English</td>\n      <td>True</td>\n    </tr>\n    <tr>\n      <th>...</th>\n      <td>...</td>\n      <td>...</td>\n      <td>...</td>\n      <td>...</td>\n      <td>...</td>\n      <td>...</td>\n    </tr>\n    <tr>\n      <th>10032</th>\n      <td>a11032</td>\n      <td>1/17/18</td>\n      <td>Email</td>\n      <td>control</td>\n      <td>German</td>\n      <td>True</td>\n    </tr>\n    <tr>\n      <th>10033</th>\n      <td>a11033</td>\n      <td>1/17/18</td>\n      <td>Email</td>\n      <td>control</td>\n      <td>German</td>\n      <td>True</td>\n    </tr>\n    <tr>\n      <th>10034</th>\n      <td>a11034</td>\n      <td>1/5/18</td>\n      <td>Instagram</td>\n      <td>control</td>\n      <td>German</td>\n      <td>False</td>\n    </tr>\n    <tr>\n      <th>10035</th>\n      <td>a11035</td>\n      <td>1/17/18</td>\n      <td>Email</td>\n      <td>control</td>\n      <td>German</td>\n      <td>True</td>\n    </tr>\n    <tr>\n      <th>10036</th>\n      <td>a11036</td>\n      <td>1/6/18</td>\n      <td>Facebook</td>\n      <td>control</td>\n      <td>German</td>\n      <td>False</td>\n    </tr>\n  </tbody>\n</table>\n<p>10037 rows × 6 columns</p>\n</div>"
     },
     "execution_count": 3,
     "metadata": {},
     "output_type": "execute_result"
    }
   ],
   "source": [
    "data"
   ],
   "metadata": {
    "collapsed": false,
    "pycharm": {
     "name": "#%%\n"
    }
   }
  },
  {
   "cell_type": "code",
   "execution_count": 4,
   "outputs": [
    {
     "data": {
      "text/plain": "                count unique    top  freq\nvariant                                  \ncontrol          5076      2  False  4705\npersonalization  4946      2  False  4241",
      "text/html": "<div>\n<style scoped>\n    .dataframe tbody tr th:only-of-type {\n        vertical-align: middle;\n    }\n\n    .dataframe tbody tr th {\n        vertical-align: top;\n    }\n\n    .dataframe thead th {\n        text-align: right;\n    }\n</style>\n<table border=\"1\" class=\"dataframe\">\n  <thead>\n    <tr style=\"text-align: right;\">\n      <th></th>\n      <th>count</th>\n      <th>unique</th>\n      <th>top</th>\n      <th>freq</th>\n    </tr>\n    <tr>\n      <th>variant</th>\n      <th></th>\n      <th></th>\n      <th></th>\n      <th></th>\n    </tr>\n  </thead>\n  <tbody>\n    <tr>\n      <th>control</th>\n      <td>5076</td>\n      <td>2</td>\n      <td>False</td>\n      <td>4705</td>\n    </tr>\n    <tr>\n      <th>personalization</th>\n      <td>4946</td>\n      <td>2</td>\n      <td>False</td>\n      <td>4241</td>\n    </tr>\n  </tbody>\n</table>\n</div>"
     },
     "execution_count": 4,
     "metadata": {},
     "output_type": "execute_result"
    }
   ],
   "source": [
    "data.groupby('variant')['converted'].describe()"
   ],
   "metadata": {
    "collapsed": false,
    "pycharm": {
     "name": "#%%\n"
    }
   }
  },
  {
   "cell_type": "code",
   "execution_count": 4,
   "outputs": [],
   "source": [],
   "metadata": {
    "collapsed": false,
    "pycharm": {
     "name": "#%%\n"
    }
   }
  },
  {
   "cell_type": "code",
   "execution_count": 5,
   "outputs": [],
   "source": [
    "data.replace({'converted': {True: 1, False: 0}}, inplace=True)\n",
    "data['converted'] = np.array(data['converted'], dtype=np.int8)"
   ],
   "metadata": {
    "collapsed": false,
    "pycharm": {
     "name": "#%%\n"
    }
   }
  },
  {
   "cell_type": "code",
   "execution_count": 6,
   "outputs": [],
   "source": [
    "k1 = data[data['variant']=='control']['converted'].sum()\n",
    "n1 = data[data['variant']=='control'].shape[0]\n",
    "k2 = data[data['variant']=='personalization']['converted'].sum()\n",
    "n2 = data[data['variant']=='personalization'].shape[0]"
   ],
   "metadata": {
    "collapsed": false,
    "pycharm": {
     "name": "#%%\n"
    }
   }
  },
  {
   "cell_type": "code",
   "execution_count": 7,
   "outputs": [
    {
     "name": "stdout",
     "output_type": "stream",
     "text": [
      "<class 'pandas.core.frame.DataFrame'>\n",
      "RangeIndex: 10037 entries, 0 to 10036\n",
      "Data columns (total 6 columns):\n",
      " #   Column              Non-Null Count  Dtype \n",
      "---  ------              --------------  ----- \n",
      " 0   user_id             10037 non-null  object\n",
      " 1   date_served         10021 non-null  object\n",
      " 2   marketing_channel   10022 non-null  object\n",
      " 3   variant             10037 non-null  object\n",
      " 4   language_displayed  10037 non-null  object\n",
      " 5   converted           10037 non-null  int8  \n",
      "dtypes: int8(1), object(5)\n",
      "memory usage: 402.0+ KB\n"
     ]
    }
   ],
   "source": [
    "data.info()"
   ],
   "metadata": {
    "collapsed": false,
    "pycharm": {
     "name": "#%%\n"
    }
   }
  },
  {
   "cell_type": "code",
   "execution_count": 8,
   "outputs": [
    {
     "name": "stdout",
     "output_type": "stream",
     "text": [
      "Конверсия группа A = 371/5091\n",
      "Конверсия группа B = 705/4946\n"
     ]
    }
   ],
   "source": [
    "print(f'Конверсия группа A = {k1}/{n1}\\nКонверсия группа B = {k2}/{n2}')"
   ],
   "metadata": {
    "collapsed": false,
    "pycharm": {
     "name": "#%%\n"
    }
   }
  },
  {
   "cell_type": "code",
   "execution_count": 9,
   "outputs": [
    {
     "name": "stdout",
     "output_type": "stream",
     "text": [
      "Results are z_score=-11.279 pvalue=0.000\n"
     ]
    }
   ],
   "source": [
    "z_score, z_pvalue = proportion.proportions_ztest(np.array([k1, k2]),\n",
    "                                                 np.array([n1, n2]))\n",
    "\n",
    "print(f'Results are z_score={z_score:.3f} pvalue={z_pvalue:.3f}')"
   ],
   "metadata": {
    "collapsed": false,
    "pycharm": {
     "name": "#%%\n"
    }
   }
  },
  {
   "cell_type": "markdown",
   "source": [
    "Видно что различия статистически значимые, по количеству конверсий у группы \"personalization\"<br>\n",
    "Сделаем визуализацию и возьмем для проверки еще какой-нибудь критерий\n"
   ],
   "metadata": {
    "collapsed": false
   }
  },
  {
   "cell_type": "code",
   "execution_count": 10,
   "outputs": [
    {
     "data": {
      "text/plain": "                      sum     count\n                converted converted\nvariant                            \ncontrol             371.0      5091\npersonalization     705.0      4946",
      "text/html": "<div>\n<style scoped>\n    .dataframe tbody tr th:only-of-type {\n        vertical-align: middle;\n    }\n\n    .dataframe tbody tr th {\n        vertical-align: top;\n    }\n\n    .dataframe thead tr th {\n        text-align: left;\n    }\n\n    .dataframe thead tr:last-of-type th {\n        text-align: right;\n    }\n</style>\n<table border=\"1\" class=\"dataframe\">\n  <thead>\n    <tr>\n      <th></th>\n      <th>sum</th>\n      <th>count</th>\n    </tr>\n    <tr>\n      <th></th>\n      <th>converted</th>\n      <th>converted</th>\n    </tr>\n    <tr>\n      <th>variant</th>\n      <th></th>\n      <th></th>\n    </tr>\n  </thead>\n  <tbody>\n    <tr>\n      <th>control</th>\n      <td>371.0</td>\n      <td>5091</td>\n    </tr>\n    <tr>\n      <th>personalization</th>\n      <td>705.0</td>\n      <td>4946</td>\n    </tr>\n  </tbody>\n</table>\n</div>"
     },
     "execution_count": 10,
     "metadata": {},
     "output_type": "execute_result"
    }
   ],
   "source": [
    "grouped = data.pivot_table(values='converted', index='variant', aggfunc=['sum', 'count'])\n",
    "grouped"
   ],
   "metadata": {
    "collapsed": false,
    "pycharm": {
     "name": "#%%\n"
    }
   }
  },
  {
   "cell_type": "code",
   "execution_count": 11,
   "outputs": [
    {
     "data": {
      "text/plain": "<Figure size 576x432 with 1 Axes>",
      "image/png": "[encoded data removed]"
     },
     "metadata": {
      "needs_background": "light"
     },
     "output_type": "display_data"
    }
   ],
   "source": [
    "plt.figure(figsize=(8, 6))\n",
    "plt.bar([1, 2], grouped['count']['converted'], label='Всего клиентов')\n",
    "plt.bar([1, 2], grouped['sum']['converted'], bottom=grouped['count']['converted'], label='Конверсные')\n",
    "plt.xticks([1, 2], ['control', 'personalization'])\n",
    "plt.legend();"
   ],
   "metadata": {
    "collapsed": false,
    "pycharm": {
     "name": "#%%\n"
    }
   }
  },
  {
   "cell_type": "code",
   "execution_count": 12,
   "outputs": [
    {
     "name": "stdout",
     "output_type": "stream",
     "text": [
      "Results are chisq=127.213 pvalue=0.000\n"
     ]
    }
   ],
   "source": [
    "chisq, pvalue, table = proportion.proportions_chisquare(np.array([k1, k2]),\n",
    "                                                        np.array([n1, n2]))\n",
    "\n",
    "print(f'Results are chisq={chisq:.3f} pvalue={pvalue:.3f}')"
   ],
   "metadata": {
    "collapsed": false,
    "pycharm": {
     "name": "#%%\n"
    }
   }
  },
  {
   "cell_type": "markdown",
   "source": [
    "Очевидно что в personalization конверсия больше практически в 2 раза, все стат. тесты подтверждают различие выборок\n",
    "\n"
   ],
   "metadata": {
    "collapsed": false
   }
  }
 ],
 "metadata": {
  "kernelspec": {
   "display_name": "Python 3",
   "language": "python",
   "name": "python3"
  },
  "language_info": {
   "codemirror_mode": {
    "name": "ipython",
    "version": 2
   },
   "file_extension": ".py",
   "mimetype": "text/x-python",
   "name": "python",
   "nbconvert_exporter": "python",
   "pygments_lexer": "ipython2",
   "version": "2.7.6"
  }
 },
 "nbformat": 4,
 "nbformat_minor": 0
}